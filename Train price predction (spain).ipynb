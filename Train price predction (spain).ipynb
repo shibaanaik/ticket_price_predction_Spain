{
 "cells": [
  {
   "cell_type": "code",
   "execution_count": 51,
   "id": "5372a5fe",
   "metadata": {},
   "outputs": [],
   "source": [
    "import pandas as pd \n",
    "import numpy as np\n",
    "import matplotlib.pyplot as plt\n",
    "import seaborn as sns\n"
   ]
  },
  {
   "cell_type": "code",
   "execution_count": 52,
   "id": "80328cfb",
   "metadata": {},
   "outputs": [],
   "source": [
    "df=pd.read_csv(\"public_transportation_data.csv\")"
   ]
  },
  {
   "cell_type": "code",
   "execution_count": 53,
   "id": "2738ff9e",
   "metadata": {},
   "outputs": [
    {
     "data": {
      "text/html": [
       "<div>\n",
       "<style scoped>\n",
       "    .dataframe tbody tr th:only-of-type {\n",
       "        vertical-align: middle;\n",
       "    }\n",
       "\n",
       "    .dataframe tbody tr th {\n",
       "        vertical-align: top;\n",
       "    }\n",
       "\n",
       "    .dataframe thead th {\n",
       "        text-align: right;\n",
       "    }\n",
       "</style>\n",
       "<table border=\"1\" class=\"dataframe\">\n",
       "  <thead>\n",
       "    <tr style=\"text-align: right;\">\n",
       "      <th></th>\n",
       "      <th>Unnamed: 0</th>\n",
       "      <th>insert_date</th>\n",
       "      <th>origin</th>\n",
       "      <th>destination</th>\n",
       "      <th>start_date</th>\n",
       "      <th>end_date</th>\n",
       "      <th>train_type</th>\n",
       "      <th>price</th>\n",
       "      <th>train_class</th>\n",
       "      <th>fare</th>\n",
       "    </tr>\n",
       "  </thead>\n",
       "  <tbody>\n",
       "    <tr>\n",
       "      <th>0</th>\n",
       "      <td>0</td>\n",
       "      <td>2019-04-19 05:31:43</td>\n",
       "      <td>MADRID</td>\n",
       "      <td>SEVILLA</td>\n",
       "      <td>2019-05-29 06:20:00</td>\n",
       "      <td>2019-05-29 09:16:00</td>\n",
       "      <td>AV City</td>\n",
       "      <td>38.55</td>\n",
       "      <td>Turista</td>\n",
       "      <td>Promo</td>\n",
       "    </tr>\n",
       "    <tr>\n",
       "      <th>1</th>\n",
       "      <td>1</td>\n",
       "      <td>2019-04-19 05:31:43</td>\n",
       "      <td>MADRID</td>\n",
       "      <td>SEVILLA</td>\n",
       "      <td>2019-05-29 07:00:00</td>\n",
       "      <td>2019-05-29 09:32:00</td>\n",
       "      <td>AVE</td>\n",
       "      <td>53.40</td>\n",
       "      <td>Turista</td>\n",
       "      <td>Promo</td>\n",
       "    </tr>\n",
       "    <tr>\n",
       "      <th>2</th>\n",
       "      <td>2</td>\n",
       "      <td>2019-04-19 05:31:43</td>\n",
       "      <td>MADRID</td>\n",
       "      <td>SEVILLA</td>\n",
       "      <td>2019-05-29 07:30:00</td>\n",
       "      <td>2019-05-29 09:51:00</td>\n",
       "      <td>AVE</td>\n",
       "      <td>47.30</td>\n",
       "      <td>Turista</td>\n",
       "      <td>Promo</td>\n",
       "    </tr>\n",
       "    <tr>\n",
       "      <th>3</th>\n",
       "      <td>3</td>\n",
       "      <td>2019-04-19 05:31:43</td>\n",
       "      <td>MADRID</td>\n",
       "      <td>SEVILLA</td>\n",
       "      <td>2019-05-29 08:00:00</td>\n",
       "      <td>2019-05-29 10:32:00</td>\n",
       "      <td>AVE</td>\n",
       "      <td>69.40</td>\n",
       "      <td>Preferente</td>\n",
       "      <td>Promo</td>\n",
       "    </tr>\n",
       "    <tr>\n",
       "      <th>4</th>\n",
       "      <td>4</td>\n",
       "      <td>2019-04-19 05:31:43</td>\n",
       "      <td>MADRID</td>\n",
       "      <td>SEVILLA</td>\n",
       "      <td>2019-05-29 08:30:00</td>\n",
       "      <td>2019-05-29 11:14:00</td>\n",
       "      <td>ALVIA</td>\n",
       "      <td>NaN</td>\n",
       "      <td>Turista</td>\n",
       "      <td>Promo</td>\n",
       "    </tr>\n",
       "    <tr>\n",
       "      <th>5</th>\n",
       "      <td>5</td>\n",
       "      <td>2019-04-19 05:31:43</td>\n",
       "      <td>MADRID</td>\n",
       "      <td>SEVILLA</td>\n",
       "      <td>2019-05-29 09:00:00</td>\n",
       "      <td>2019-05-29 11:38:00</td>\n",
       "      <td>AVE</td>\n",
       "      <td>60.30</td>\n",
       "      <td>Turista</td>\n",
       "      <td>Promo</td>\n",
       "    </tr>\n",
       "    <tr>\n",
       "      <th>6</th>\n",
       "      <td>6</td>\n",
       "      <td>2019-04-19 05:31:43</td>\n",
       "      <td>MADRID</td>\n",
       "      <td>SEVILLA</td>\n",
       "      <td>2019-05-29 09:45:00</td>\n",
       "      <td>2019-05-29 12:27:00</td>\n",
       "      <td>INTERCITY</td>\n",
       "      <td>62.20</td>\n",
       "      <td>Turista</td>\n",
       "      <td>Flexible</td>\n",
       "    </tr>\n",
       "    <tr>\n",
       "      <th>7</th>\n",
       "      <td>7</td>\n",
       "      <td>2019-04-19 05:31:43</td>\n",
       "      <td>MADRID</td>\n",
       "      <td>SEVILLA</td>\n",
       "      <td>2019-05-29 10:00:00</td>\n",
       "      <td>2019-05-29 12:32:00</td>\n",
       "      <td>AVE</td>\n",
       "      <td>47.30</td>\n",
       "      <td>Turista</td>\n",
       "      <td>Promo</td>\n",
       "    </tr>\n",
       "    <tr>\n",
       "      <th>8</th>\n",
       "      <td>8</td>\n",
       "      <td>2019-04-19 05:31:43</td>\n",
       "      <td>MADRID</td>\n",
       "      <td>SEVILLA</td>\n",
       "      <td>2019-05-29 11:00:00</td>\n",
       "      <td>2019-05-29 13:32:00</td>\n",
       "      <td>AVE</td>\n",
       "      <td>53.40</td>\n",
       "      <td>Turista</td>\n",
       "      <td>Promo</td>\n",
       "    </tr>\n",
       "    <tr>\n",
       "      <th>9</th>\n",
       "      <td>9</td>\n",
       "      <td>2019-04-19 05:31:43</td>\n",
       "      <td>MADRID</td>\n",
       "      <td>SEVILLA</td>\n",
       "      <td>2019-05-29 11:05:00</td>\n",
       "      <td>2019-05-29 13:41:00</td>\n",
       "      <td>ALVIA</td>\n",
       "      <td>NaN</td>\n",
       "      <td>Turista</td>\n",
       "      <td>Promo</td>\n",
       "    </tr>\n",
       "  </tbody>\n",
       "</table>\n",
       "</div>"
      ],
      "text/plain": [
       "   Unnamed: 0          insert_date  origin destination           start_date  \\\n",
       "0           0  2019-04-19 05:31:43  MADRID     SEVILLA  2019-05-29 06:20:00   \n",
       "1           1  2019-04-19 05:31:43  MADRID     SEVILLA  2019-05-29 07:00:00   \n",
       "2           2  2019-04-19 05:31:43  MADRID     SEVILLA  2019-05-29 07:30:00   \n",
       "3           3  2019-04-19 05:31:43  MADRID     SEVILLA  2019-05-29 08:00:00   \n",
       "4           4  2019-04-19 05:31:43  MADRID     SEVILLA  2019-05-29 08:30:00   \n",
       "5           5  2019-04-19 05:31:43  MADRID     SEVILLA  2019-05-29 09:00:00   \n",
       "6           6  2019-04-19 05:31:43  MADRID     SEVILLA  2019-05-29 09:45:00   \n",
       "7           7  2019-04-19 05:31:43  MADRID     SEVILLA  2019-05-29 10:00:00   \n",
       "8           8  2019-04-19 05:31:43  MADRID     SEVILLA  2019-05-29 11:00:00   \n",
       "9           9  2019-04-19 05:31:43  MADRID     SEVILLA  2019-05-29 11:05:00   \n",
       "\n",
       "              end_date train_type  price train_class      fare  \n",
       "0  2019-05-29 09:16:00    AV City  38.55     Turista     Promo  \n",
       "1  2019-05-29 09:32:00        AVE  53.40     Turista     Promo  \n",
       "2  2019-05-29 09:51:00        AVE  47.30     Turista     Promo  \n",
       "3  2019-05-29 10:32:00        AVE  69.40  Preferente     Promo  \n",
       "4  2019-05-29 11:14:00      ALVIA    NaN     Turista     Promo  \n",
       "5  2019-05-29 11:38:00        AVE  60.30     Turista     Promo  \n",
       "6  2019-05-29 12:27:00  INTERCITY  62.20     Turista  Flexible  \n",
       "7  2019-05-29 12:32:00        AVE  47.30     Turista     Promo  \n",
       "8  2019-05-29 13:32:00        AVE  53.40     Turista     Promo  \n",
       "9  2019-05-29 13:41:00      ALVIA    NaN     Turista     Promo  "
      ]
     },
     "execution_count": 53,
     "metadata": {},
     "output_type": "execute_result"
    }
   ],
   "source": [
    "df.head(10)"
   ]
  },
  {
   "cell_type": "code",
   "execution_count": 54,
   "id": "579f007b",
   "metadata": {},
   "outputs": [
    {
     "data": {
      "text/html": [
       "<div>\n",
       "<style scoped>\n",
       "    .dataframe tbody tr th:only-of-type {\n",
       "        vertical-align: middle;\n",
       "    }\n",
       "\n",
       "    .dataframe tbody tr th {\n",
       "        vertical-align: top;\n",
       "    }\n",
       "\n",
       "    .dataframe thead th {\n",
       "        text-align: right;\n",
       "    }\n",
       "</style>\n",
       "<table border=\"1\" class=\"dataframe\">\n",
       "  <thead>\n",
       "    <tr style=\"text-align: right;\">\n",
       "      <th></th>\n",
       "      <th>Unnamed: 0</th>\n",
       "      <th>insert_date</th>\n",
       "      <th>origin</th>\n",
       "      <th>destination</th>\n",
       "      <th>start_date</th>\n",
       "      <th>end_date</th>\n",
       "      <th>train_type</th>\n",
       "      <th>price</th>\n",
       "      <th>train_class</th>\n",
       "      <th>fare</th>\n",
       "    </tr>\n",
       "  </thead>\n",
       "  <tbody>\n",
       "    <tr>\n",
       "      <th>2579761</th>\n",
       "      <td>2579761</td>\n",
       "      <td>2019-04-19 05:31:38</td>\n",
       "      <td>MADRID</td>\n",
       "      <td>SEVILLA</td>\n",
       "      <td>2019-05-30 16:00:00</td>\n",
       "      <td>2019-05-30 18:30:00</td>\n",
       "      <td>AVE</td>\n",
       "      <td>76.30</td>\n",
       "      <td>Turista</td>\n",
       "      <td>Flexible</td>\n",
       "    </tr>\n",
       "    <tr>\n",
       "      <th>2579762</th>\n",
       "      <td>2579762</td>\n",
       "      <td>2019-04-19 05:31:38</td>\n",
       "      <td>MADRID</td>\n",
       "      <td>SEVILLA</td>\n",
       "      <td>2019-05-30 16:30:00</td>\n",
       "      <td>2019-05-30 18:51:00</td>\n",
       "      <td>AVE</td>\n",
       "      <td>76.30</td>\n",
       "      <td>Turista</td>\n",
       "      <td>Flexible</td>\n",
       "    </tr>\n",
       "    <tr>\n",
       "      <th>2579763</th>\n",
       "      <td>2579763</td>\n",
       "      <td>2019-04-19 05:31:38</td>\n",
       "      <td>MADRID</td>\n",
       "      <td>SEVILLA</td>\n",
       "      <td>2019-05-30 17:00:00</td>\n",
       "      <td>2019-05-30 19:38:00</td>\n",
       "      <td>AVE</td>\n",
       "      <td>76.30</td>\n",
       "      <td>Turista</td>\n",
       "      <td>Flexible</td>\n",
       "    </tr>\n",
       "    <tr>\n",
       "      <th>2579764</th>\n",
       "      <td>2579764</td>\n",
       "      <td>2019-04-19 05:31:38</td>\n",
       "      <td>MADRID</td>\n",
       "      <td>SEVILLA</td>\n",
       "      <td>2019-05-30 18:00:00</td>\n",
       "      <td>2019-05-30 20:32:00</td>\n",
       "      <td>AVE</td>\n",
       "      <td>60.30</td>\n",
       "      <td>Turista</td>\n",
       "      <td>Promo</td>\n",
       "    </tr>\n",
       "    <tr>\n",
       "      <th>2579765</th>\n",
       "      <td>2579765</td>\n",
       "      <td>2019-04-19 05:31:38</td>\n",
       "      <td>MADRID</td>\n",
       "      <td>SEVILLA</td>\n",
       "      <td>2019-05-30 18:35:00</td>\n",
       "      <td>2019-05-30 21:08:00</td>\n",
       "      <td>ALVIA</td>\n",
       "      <td>67.20</td>\n",
       "      <td>Turista</td>\n",
       "      <td>Flexible</td>\n",
       "    </tr>\n",
       "    <tr>\n",
       "      <th>2579766</th>\n",
       "      <td>2579766</td>\n",
       "      <td>2019-04-19 05:31:38</td>\n",
       "      <td>MADRID</td>\n",
       "      <td>SEVILLA</td>\n",
       "      <td>2019-05-30 19:00:00</td>\n",
       "      <td>2019-05-30 21:38:00</td>\n",
       "      <td>AVE</td>\n",
       "      <td>76.30</td>\n",
       "      <td>Turista</td>\n",
       "      <td>Flexible</td>\n",
       "    </tr>\n",
       "    <tr>\n",
       "      <th>2579767</th>\n",
       "      <td>2579767</td>\n",
       "      <td>2019-04-19 05:31:38</td>\n",
       "      <td>MADRID</td>\n",
       "      <td>SEVILLA</td>\n",
       "      <td>2019-05-30 19:30:00</td>\n",
       "      <td>2019-05-30 22:05:00</td>\n",
       "      <td>AVE</td>\n",
       "      <td>76.30</td>\n",
       "      <td>Turista</td>\n",
       "      <td>Flexible</td>\n",
       "    </tr>\n",
       "    <tr>\n",
       "      <th>2579768</th>\n",
       "      <td>2579768</td>\n",
       "      <td>2019-04-19 05:31:38</td>\n",
       "      <td>MADRID</td>\n",
       "      <td>SEVILLA</td>\n",
       "      <td>2019-05-30 20:00:00</td>\n",
       "      <td>2019-05-30 22:21:00</td>\n",
       "      <td>AVE</td>\n",
       "      <td>72.30</td>\n",
       "      <td>Turista Plus</td>\n",
       "      <td>Promo</td>\n",
       "    </tr>\n",
       "    <tr>\n",
       "      <th>2579769</th>\n",
       "      <td>2579769</td>\n",
       "      <td>2019-04-19 05:31:38</td>\n",
       "      <td>MADRID</td>\n",
       "      <td>SEVILLA</td>\n",
       "      <td>2019-05-30 20:35:00</td>\n",
       "      <td>2019-05-30 23:15:00</td>\n",
       "      <td>AVE</td>\n",
       "      <td>76.30</td>\n",
       "      <td>Turista</td>\n",
       "      <td>Flexible</td>\n",
       "    </tr>\n",
       "    <tr>\n",
       "      <th>2579770</th>\n",
       "      <td>2579770</td>\n",
       "      <td>2019-04-19 05:31:38</td>\n",
       "      <td>MADRID</td>\n",
       "      <td>SEVILLA</td>\n",
       "      <td>2019-05-30 21:25:00</td>\n",
       "      <td>2019-05-31 00:10:00</td>\n",
       "      <td>AV City</td>\n",
       "      <td>49.15</td>\n",
       "      <td>Turista</td>\n",
       "      <td>Promo</td>\n",
       "    </tr>\n",
       "  </tbody>\n",
       "</table>\n",
       "</div>"
      ],
      "text/plain": [
       "         Unnamed: 0          insert_date  origin destination  \\\n",
       "2579761     2579761  2019-04-19 05:31:38  MADRID     SEVILLA   \n",
       "2579762     2579762  2019-04-19 05:31:38  MADRID     SEVILLA   \n",
       "2579763     2579763  2019-04-19 05:31:38  MADRID     SEVILLA   \n",
       "2579764     2579764  2019-04-19 05:31:38  MADRID     SEVILLA   \n",
       "2579765     2579765  2019-04-19 05:31:38  MADRID     SEVILLA   \n",
       "2579766     2579766  2019-04-19 05:31:38  MADRID     SEVILLA   \n",
       "2579767     2579767  2019-04-19 05:31:38  MADRID     SEVILLA   \n",
       "2579768     2579768  2019-04-19 05:31:38  MADRID     SEVILLA   \n",
       "2579769     2579769  2019-04-19 05:31:38  MADRID     SEVILLA   \n",
       "2579770     2579770  2019-04-19 05:31:38  MADRID     SEVILLA   \n",
       "\n",
       "                  start_date             end_date train_type  price  \\\n",
       "2579761  2019-05-30 16:00:00  2019-05-30 18:30:00        AVE  76.30   \n",
       "2579762  2019-05-30 16:30:00  2019-05-30 18:51:00        AVE  76.30   \n",
       "2579763  2019-05-30 17:00:00  2019-05-30 19:38:00        AVE  76.30   \n",
       "2579764  2019-05-30 18:00:00  2019-05-30 20:32:00        AVE  60.30   \n",
       "2579765  2019-05-30 18:35:00  2019-05-30 21:08:00      ALVIA  67.20   \n",
       "2579766  2019-05-30 19:00:00  2019-05-30 21:38:00        AVE  76.30   \n",
       "2579767  2019-05-30 19:30:00  2019-05-30 22:05:00        AVE  76.30   \n",
       "2579768  2019-05-30 20:00:00  2019-05-30 22:21:00        AVE  72.30   \n",
       "2579769  2019-05-30 20:35:00  2019-05-30 23:15:00        AVE  76.30   \n",
       "2579770  2019-05-30 21:25:00  2019-05-31 00:10:00    AV City  49.15   \n",
       "\n",
       "          train_class      fare  \n",
       "2579761       Turista  Flexible  \n",
       "2579762       Turista  Flexible  \n",
       "2579763       Turista  Flexible  \n",
       "2579764       Turista     Promo  \n",
       "2579765       Turista  Flexible  \n",
       "2579766       Turista  Flexible  \n",
       "2579767       Turista  Flexible  \n",
       "2579768  Turista Plus     Promo  \n",
       "2579769       Turista  Flexible  \n",
       "2579770       Turista     Promo  "
      ]
     },
     "execution_count": 54,
     "metadata": {},
     "output_type": "execute_result"
    }
   ],
   "source": [
    "df.tail(10)"
   ]
  },
  {
   "cell_type": "code",
   "execution_count": 55,
   "id": "b116d40b",
   "metadata": {},
   "outputs": [],
   "source": [
    "df=df.drop(columns=['Unnamed: 0'])"
   ]
  },
  {
   "cell_type": "code",
   "execution_count": 56,
   "id": "1a43cf2f",
   "metadata": {},
   "outputs": [],
   "source": [
    "df=df.drop(columns=['insert_date'],axis=1)"
   ]
  },
  {
   "cell_type": "code",
   "execution_count": 57,
   "id": "71601afc",
   "metadata": {},
   "outputs": [
    {
     "name": "stdout",
     "output_type": "stream",
     "text": [
      "<class 'pandas.core.frame.DataFrame'>\n",
      "RangeIndex: 2579771 entries, 0 to 2579770\n",
      "Data columns (total 8 columns):\n",
      " #   Column       Dtype  \n",
      "---  ------       -----  \n",
      " 0   origin       object \n",
      " 1   destination  object \n",
      " 2   start_date   object \n",
      " 3   end_date     object \n",
      " 4   train_type   object \n",
      " 5   price        float64\n",
      " 6   train_class  object \n",
      " 7   fare         object \n",
      "dtypes: float64(1), object(7)\n",
      "memory usage: 157.5+ MB\n"
     ]
    }
   ],
   "source": [
    "df.info()"
   ]
  },
  {
   "cell_type": "code",
   "execution_count": 58,
   "id": "087e692b",
   "metadata": {},
   "outputs": [
    {
     "data": {
      "text/plain": [
       "origin              0\n",
       "destination         0\n",
       "start_date          0\n",
       "end_date            0\n",
       "train_type          0\n",
       "price          310681\n",
       "train_class      9664\n",
       "fare             9664\n",
       "dtype: int64"
      ]
     },
     "execution_count": 58,
     "metadata": {},
     "output_type": "execute_result"
    }
   ],
   "source": [
    "df.isnull().sum()"
   ]
  },
  {
   "cell_type": "code",
   "execution_count": 59,
   "id": "267c4e1c",
   "metadata": {},
   "outputs": [
    {
     "data": {
      "text/html": [
       "<div>\n",
       "<style scoped>\n",
       "    .dataframe tbody tr th:only-of-type {\n",
       "        vertical-align: middle;\n",
       "    }\n",
       "\n",
       "    .dataframe tbody tr th {\n",
       "        vertical-align: top;\n",
       "    }\n",
       "\n",
       "    .dataframe thead th {\n",
       "        text-align: right;\n",
       "    }\n",
       "</style>\n",
       "<table border=\"1\" class=\"dataframe\">\n",
       "  <thead>\n",
       "    <tr style=\"text-align: right;\">\n",
       "      <th></th>\n",
       "      <th>price</th>\n",
       "    </tr>\n",
       "  </thead>\n",
       "  <tbody>\n",
       "    <tr>\n",
       "      <th>count</th>\n",
       "      <td>2.269090e+06</td>\n",
       "    </tr>\n",
       "    <tr>\n",
       "      <th>mean</th>\n",
       "      <td>6.338550e+01</td>\n",
       "    </tr>\n",
       "    <tr>\n",
       "      <th>std</th>\n",
       "      <td>2.578319e+01</td>\n",
       "    </tr>\n",
       "    <tr>\n",
       "      <th>min</th>\n",
       "      <td>1.545000e+01</td>\n",
       "    </tr>\n",
       "    <tr>\n",
       "      <th>25%</th>\n",
       "      <td>4.375000e+01</td>\n",
       "    </tr>\n",
       "    <tr>\n",
       "      <th>50%</th>\n",
       "      <td>6.030000e+01</td>\n",
       "    </tr>\n",
       "    <tr>\n",
       "      <th>75%</th>\n",
       "      <td>7.880000e+01</td>\n",
       "    </tr>\n",
       "    <tr>\n",
       "      <th>max</th>\n",
       "      <td>2.142000e+02</td>\n",
       "    </tr>\n",
       "  </tbody>\n",
       "</table>\n",
       "</div>"
      ],
      "text/plain": [
       "              price\n",
       "count  2.269090e+06\n",
       "mean   6.338550e+01\n",
       "std    2.578319e+01\n",
       "min    1.545000e+01\n",
       "25%    4.375000e+01\n",
       "50%    6.030000e+01\n",
       "75%    7.880000e+01\n",
       "max    2.142000e+02"
      ]
     },
     "execution_count": 59,
     "metadata": {},
     "output_type": "execute_result"
    }
   ],
   "source": [
    "df.describe()"
   ]
  },
  {
   "cell_type": "code",
   "execution_count": 60,
   "id": "5de449c2",
   "metadata": {},
   "outputs": [
    {
     "data": {
      "text/plain": [
       "fare\n",
       "Promo                  1733423\n",
       "Flexible                582743\n",
       "Adulto ida              179844\n",
       "Promo +                  73778\n",
       "Individual-Flexible        214\n",
       "Mesa                        99\n",
       "Grupos Ida                   6\n",
       "Name: count, dtype: int64"
      ]
     },
     "execution_count": 60,
     "metadata": {},
     "output_type": "execute_result"
    }
   ],
   "source": [
    "df['fare'].value_counts()"
   ]
  },
  {
   "cell_type": "code",
   "execution_count": 61,
   "id": "dea6872e",
   "metadata": {},
   "outputs": [
    {
     "data": {
      "text/plain": [
       "train_type\n",
       "AVE          1789258\n",
       "ALVIA         182267\n",
       "REGIONAL      145898\n",
       "INTERCITY      99840\n",
       "AV City        72791\n",
       "MD-LD          51585\n",
       "LD             41209\n",
       "AVE-TGV        34755\n",
       "AVE-MD         34182\n",
       "R. EXPRES      31918\n",
       "AVE-LD         31472\n",
       "LD-MD          27305\n",
       "TRENHOTEL      19348\n",
       "MD-AVE          7592\n",
       "MD              5543\n",
       "LD-AVE          4808\n",
       "Name: count, dtype: int64"
      ]
     },
     "execution_count": 61,
     "metadata": {},
     "output_type": "execute_result"
    }
   ],
   "source": [
    "df['train_type'].value_counts()"
   ]
  },
  {
   "cell_type": "code",
   "execution_count": 62,
   "id": "1298a4d4",
   "metadata": {},
   "outputs": [
    {
     "data": {
      "text/plain": [
       "np.float64(63.385503417669646)"
      ]
     },
     "execution_count": 62,
     "metadata": {},
     "output_type": "execute_result"
    }
   ],
   "source": [
    "df['price'].mean()"
   ]
  },
  {
   "cell_type": "code",
   "execution_count": 63,
   "id": "8e42a053",
   "metadata": {},
   "outputs": [],
   "source": [
    "df['price']=df['price'].fillna('63')"
   ]
  },
  {
   "cell_type": "code",
   "execution_count": 64,
   "id": "6303b628",
   "metadata": {},
   "outputs": [
    {
     "data": {
      "text/html": [
       "<div>\n",
       "<style scoped>\n",
       "    .dataframe tbody tr th:only-of-type {\n",
       "        vertical-align: middle;\n",
       "    }\n",
       "\n",
       "    .dataframe tbody tr th {\n",
       "        vertical-align: top;\n",
       "    }\n",
       "\n",
       "    .dataframe thead th {\n",
       "        text-align: right;\n",
       "    }\n",
       "</style>\n",
       "<table border=\"1\" class=\"dataframe\">\n",
       "  <thead>\n",
       "    <tr style=\"text-align: right;\">\n",
       "      <th></th>\n",
       "      <th>origin</th>\n",
       "      <th>destination</th>\n",
       "      <th>start_date</th>\n",
       "      <th>end_date</th>\n",
       "      <th>train_type</th>\n",
       "      <th>price</th>\n",
       "      <th>train_class</th>\n",
       "      <th>fare</th>\n",
       "    </tr>\n",
       "  </thead>\n",
       "  <tbody>\n",
       "    <tr>\n",
       "      <th>0</th>\n",
       "      <td>MADRID</td>\n",
       "      <td>SEVILLA</td>\n",
       "      <td>2019-05-29 06:20:00</td>\n",
       "      <td>2019-05-29 09:16:00</td>\n",
       "      <td>AV City</td>\n",
       "      <td>38.55</td>\n",
       "      <td>Turista</td>\n",
       "      <td>Promo</td>\n",
       "    </tr>\n",
       "    <tr>\n",
       "      <th>1</th>\n",
       "      <td>MADRID</td>\n",
       "      <td>SEVILLA</td>\n",
       "      <td>2019-05-29 07:00:00</td>\n",
       "      <td>2019-05-29 09:32:00</td>\n",
       "      <td>AVE</td>\n",
       "      <td>53.4</td>\n",
       "      <td>Turista</td>\n",
       "      <td>Promo</td>\n",
       "    </tr>\n",
       "    <tr>\n",
       "      <th>2</th>\n",
       "      <td>MADRID</td>\n",
       "      <td>SEVILLA</td>\n",
       "      <td>2019-05-29 07:30:00</td>\n",
       "      <td>2019-05-29 09:51:00</td>\n",
       "      <td>AVE</td>\n",
       "      <td>47.3</td>\n",
       "      <td>Turista</td>\n",
       "      <td>Promo</td>\n",
       "    </tr>\n",
       "    <tr>\n",
       "      <th>3</th>\n",
       "      <td>MADRID</td>\n",
       "      <td>SEVILLA</td>\n",
       "      <td>2019-05-29 08:00:00</td>\n",
       "      <td>2019-05-29 10:32:00</td>\n",
       "      <td>AVE</td>\n",
       "      <td>69.4</td>\n",
       "      <td>Preferente</td>\n",
       "      <td>Promo</td>\n",
       "    </tr>\n",
       "    <tr>\n",
       "      <th>4</th>\n",
       "      <td>MADRID</td>\n",
       "      <td>SEVILLA</td>\n",
       "      <td>2019-05-29 08:30:00</td>\n",
       "      <td>2019-05-29 11:14:00</td>\n",
       "      <td>ALVIA</td>\n",
       "      <td>63</td>\n",
       "      <td>Turista</td>\n",
       "      <td>Promo</td>\n",
       "    </tr>\n",
       "  </tbody>\n",
       "</table>\n",
       "</div>"
      ],
      "text/plain": [
       "   origin destination           start_date             end_date train_type  \\\n",
       "0  MADRID     SEVILLA  2019-05-29 06:20:00  2019-05-29 09:16:00    AV City   \n",
       "1  MADRID     SEVILLA  2019-05-29 07:00:00  2019-05-29 09:32:00        AVE   \n",
       "2  MADRID     SEVILLA  2019-05-29 07:30:00  2019-05-29 09:51:00        AVE   \n",
       "3  MADRID     SEVILLA  2019-05-29 08:00:00  2019-05-29 10:32:00        AVE   \n",
       "4  MADRID     SEVILLA  2019-05-29 08:30:00  2019-05-29 11:14:00      ALVIA   \n",
       "\n",
       "   price train_class   fare  \n",
       "0  38.55     Turista  Promo  \n",
       "1   53.4     Turista  Promo  \n",
       "2   47.3     Turista  Promo  \n",
       "3   69.4  Preferente  Promo  \n",
       "4     63     Turista  Promo  "
      ]
     },
     "execution_count": 64,
     "metadata": {},
     "output_type": "execute_result"
    }
   ],
   "source": [
    "df.head()"
   ]
  },
  {
   "cell_type": "code",
   "execution_count": 65,
   "id": "1fb66321",
   "metadata": {},
   "outputs": [],
   "source": [
    "df['price']=df['price'].astype(int)"
   ]
  },
  {
   "cell_type": "code",
   "execution_count": 66,
   "id": "b9c71c8b",
   "metadata": {},
   "outputs": [
    {
     "data": {
      "text/plain": [
       "origin            0\n",
       "destination       0\n",
       "start_date        0\n",
       "end_date          0\n",
       "train_type        0\n",
       "price             0\n",
       "train_class    9664\n",
       "fare           9664\n",
       "dtype: int64"
      ]
     },
     "execution_count": 66,
     "metadata": {},
     "output_type": "execute_result"
    }
   ],
   "source": [
    "df.isnull().sum()"
   ]
  },
  {
   "cell_type": "code",
   "execution_count": 67,
   "id": "e7b28066",
   "metadata": {},
   "outputs": [
    {
     "data": {
      "text/plain": [
       "train_class\n",
       "Turista               1950303\n",
       "Preferente             256082\n",
       "Turista Plus           192908\n",
       "Turista con enlace     169549\n",
       "Cama Turista             1051\n",
       "Cama G. Clase             214\n",
       "Name: count, dtype: int64"
      ]
     },
     "execution_count": 67,
     "metadata": {},
     "output_type": "execute_result"
    }
   ],
   "source": [
    "df['train_class'].value_counts()"
   ]
  },
  {
   "cell_type": "code",
   "execution_count": 68,
   "id": "b4245d16",
   "metadata": {},
   "outputs": [
    {
     "data": {
      "text/plain": [
       "destination\n",
       "MADRID        1220348\n",
       "BARCELONA      480074\n",
       "SEVILLA        413155\n",
       "VALENCIA       399679\n",
       "PONFERRADA      66515\n",
       "Name: count, dtype: int64"
      ]
     },
     "execution_count": 68,
     "metadata": {},
     "output_type": "execute_result"
    }
   ],
   "source": [
    "df['destination'].value_counts()"
   ]
  },
  {
   "cell_type": "code",
   "execution_count": 69,
   "id": "b1a534e2",
   "metadata": {},
   "outputs": [
    {
     "data": {
      "text/plain": [
       "origin\n",
       "MADRID        1359423\n",
       "BARCELONA      405621\n",
       "SEVILLA        398445\n",
       "VALENCIA       323086\n",
       "PONFERRADA      93196\n",
       "Name: count, dtype: int64"
      ]
     },
     "execution_count": 69,
     "metadata": {},
     "output_type": "execute_result"
    }
   ],
   "source": [
    "df['origin'].value_counts()"
   ]
  },
  {
   "cell_type": "code",
   "execution_count": 70,
   "id": "ea6e62a3",
   "metadata": {},
   "outputs": [],
   "source": [
    "df=df.dropna()"
   ]
  },
  {
   "cell_type": "code",
   "execution_count": 71,
   "id": "6d6ad03d",
   "metadata": {},
   "outputs": [
    {
     "data": {
      "text/plain": [
       "origin         0\n",
       "destination    0\n",
       "start_date     0\n",
       "end_date       0\n",
       "train_type     0\n",
       "price          0\n",
       "train_class    0\n",
       "fare           0\n",
       "dtype: int64"
      ]
     },
     "execution_count": 71,
     "metadata": {},
     "output_type": "execute_result"
    }
   ],
   "source": [
    "df.isnull().sum()"
   ]
  },
  {
   "cell_type": "code",
   "execution_count": 72,
   "id": "822d2a4b",
   "metadata": {},
   "outputs": [
    {
     "data": {
      "text/plain": [
       "fare\n",
       "Promo                  1733423\n",
       "Flexible                582743\n",
       "Adulto ida              179844\n",
       "Promo +                  73778\n",
       "Individual-Flexible        214\n",
       "Mesa                        99\n",
       "Grupos Ida                   6\n",
       "Name: count, dtype: int64"
      ]
     },
     "execution_count": 72,
     "metadata": {},
     "output_type": "execute_result"
    }
   ],
   "source": [
    "df['fare'].value_counts()"
   ]
  },
  {
   "cell_type": "code",
   "execution_count": 73,
   "id": "65ce9d8b",
   "metadata": {},
   "outputs": [],
   "source": [
    "#lets fill all the empty fare with mesa \n",
    "df['fare']=df['fare'].fillna('Mesa')"
   ]
  },
  {
   "cell_type": "code",
   "execution_count": 74,
   "id": "68e748cb",
   "metadata": {},
   "outputs": [
    {
     "data": {
      "text/plain": [
       "origin         0\n",
       "destination    0\n",
       "start_date     0\n",
       "end_date       0\n",
       "train_type     0\n",
       "price          0\n",
       "train_class    0\n",
       "fare           0\n",
       "dtype: int64"
      ]
     },
     "execution_count": 74,
     "metadata": {},
     "output_type": "execute_result"
    }
   ],
   "source": [
    "df.isnull().sum()"
   ]
  },
  {
   "cell_type": "code",
   "execution_count": 75,
   "id": "885480e1",
   "metadata": {},
   "outputs": [
    {
     "data": {
      "text/plain": [
       "(2570107, 8)"
      ]
     },
     "execution_count": 75,
     "metadata": {},
     "output_type": "execute_result"
    }
   ],
   "source": [
    "df.shape"
   ]
  },
  {
   "cell_type": "code",
   "execution_count": 76,
   "id": "1dfed965",
   "metadata": {},
   "outputs": [],
   "source": [
    "from sklearn.model_selection import train_test_split  # Splitting data into train & test sets\n",
    "from sklearn.preprocessing import OneHotEncoder, LabelEncoder  # Encoding categorical features\n",
    "from sklearn.preprocessing import StandardScaler  # Scaling numerical features\n",
    "from sklearn.linear_model import LinearRegression  # Linear Regression model\n",
    "from sklearn.ensemble import RandomForestRegressor  # Random Forest model\n",
    "from sklearn.metrics import mean_absolute_error, mean_squared_error, r2_score"
   ]
  },
  {
   "cell_type": "code",
   "execution_count": 100,
   "id": "5802e6cd",
   "metadata": {},
   "outputs": [],
   "source": [
    "label_mappings = {}\n",
    "for col in categorical_cols:\n",
    "    unique_classes = df[col].unique()\n",
    "    label_mappings[col] = {cls: i for i, cls in enumerate(unique_classes)}  # Store mappings\n",
    "    df[col] = df[col].map(label_mappings[col])  # Apply mapping\n",
    "\n",
    "with open(\"label_mappings.json\", \"w\") as f:\n",
    "    json.dump(label_mappings, f)"
   ]
  },
  {
   "cell_type": "code",
   "execution_count": 78,
   "id": "6aab0627",
   "metadata": {},
   "outputs": [
    {
     "name": "stdout",
     "output_type": "stream",
     "text": [
      "['barcelona', 'madrid', 'ponferrada', 'sevilla', 'valencia']\n",
      "['barcelona', 'madrid', 'ponferrada', 'sevilla', 'valencia']\n"
     ]
    }
   ],
   "source": [
    "import json\n",
    "with open(\"label_encoders.json\", \"r\") as f:\n",
    "    data = json.load(f)\n",
    "print(data[\"origin\"])  \n",
    "print(data[\"destination\"])"
   ]
  },
  {
   "cell_type": "code",
   "execution_count": 79,
   "id": "7e5ccb96",
   "metadata": {},
   "outputs": [
    {
     "data": {
      "text/html": [
       "<div>\n",
       "<style scoped>\n",
       "    .dataframe tbody tr th:only-of-type {\n",
       "        vertical-align: middle;\n",
       "    }\n",
       "\n",
       "    .dataframe tbody tr th {\n",
       "        vertical-align: top;\n",
       "    }\n",
       "\n",
       "    .dataframe thead th {\n",
       "        text-align: right;\n",
       "    }\n",
       "</style>\n",
       "<table border=\"1\" class=\"dataframe\">\n",
       "  <thead>\n",
       "    <tr style=\"text-align: right;\">\n",
       "      <th></th>\n",
       "      <th>origin</th>\n",
       "      <th>destination</th>\n",
       "      <th>start_date</th>\n",
       "      <th>end_date</th>\n",
       "      <th>train_type</th>\n",
       "      <th>price</th>\n",
       "      <th>train_class</th>\n",
       "      <th>fare</th>\n",
       "    </tr>\n",
       "  </thead>\n",
       "  <tbody>\n",
       "    <tr>\n",
       "      <th>0</th>\n",
       "      <td>madrid</td>\n",
       "      <td>sevilla</td>\n",
       "      <td>2019-05-29 06:20:00</td>\n",
       "      <td>2019-05-29 09:16:00</td>\n",
       "      <td>av city</td>\n",
       "      <td>38</td>\n",
       "      <td>turista</td>\n",
       "      <td>promo</td>\n",
       "    </tr>\n",
       "    <tr>\n",
       "      <th>1</th>\n",
       "      <td>madrid</td>\n",
       "      <td>sevilla</td>\n",
       "      <td>2019-05-29 07:00:00</td>\n",
       "      <td>2019-05-29 09:32:00</td>\n",
       "      <td>ave</td>\n",
       "      <td>53</td>\n",
       "      <td>turista</td>\n",
       "      <td>promo</td>\n",
       "    </tr>\n",
       "    <tr>\n",
       "      <th>2</th>\n",
       "      <td>madrid</td>\n",
       "      <td>sevilla</td>\n",
       "      <td>2019-05-29 07:30:00</td>\n",
       "      <td>2019-05-29 09:51:00</td>\n",
       "      <td>ave</td>\n",
       "      <td>47</td>\n",
       "      <td>turista</td>\n",
       "      <td>promo</td>\n",
       "    </tr>\n",
       "    <tr>\n",
       "      <th>3</th>\n",
       "      <td>madrid</td>\n",
       "      <td>sevilla</td>\n",
       "      <td>2019-05-29 08:00:00</td>\n",
       "      <td>2019-05-29 10:32:00</td>\n",
       "      <td>ave</td>\n",
       "      <td>69</td>\n",
       "      <td>preferente</td>\n",
       "      <td>promo</td>\n",
       "    </tr>\n",
       "    <tr>\n",
       "      <th>4</th>\n",
       "      <td>madrid</td>\n",
       "      <td>sevilla</td>\n",
       "      <td>2019-05-29 08:30:00</td>\n",
       "      <td>2019-05-29 11:14:00</td>\n",
       "      <td>alvia</td>\n",
       "      <td>63</td>\n",
       "      <td>turista</td>\n",
       "      <td>promo</td>\n",
       "    </tr>\n",
       "  </tbody>\n",
       "</table>\n",
       "</div>"
      ],
      "text/plain": [
       "   origin destination           start_date             end_date train_type  \\\n",
       "0  madrid     sevilla  2019-05-29 06:20:00  2019-05-29 09:16:00    av city   \n",
       "1  madrid     sevilla  2019-05-29 07:00:00  2019-05-29 09:32:00        ave   \n",
       "2  madrid     sevilla  2019-05-29 07:30:00  2019-05-29 09:51:00        ave   \n",
       "3  madrid     sevilla  2019-05-29 08:00:00  2019-05-29 10:32:00        ave   \n",
       "4  madrid     sevilla  2019-05-29 08:30:00  2019-05-29 11:14:00      alvia   \n",
       "\n",
       "   price train_class   fare  \n",
       "0     38     turista  promo  \n",
       "1     53     turista  promo  \n",
       "2     47     turista  promo  \n",
       "3     69  preferente  promo  \n",
       "4     63     turista  promo  "
      ]
     },
     "execution_count": 79,
     "metadata": {},
     "output_type": "execute_result"
    }
   ],
   "source": [
    "df.head()"
   ]
  },
  {
   "cell_type": "code",
   "execution_count": null,
   "id": "a5108f90",
   "metadata": {},
   "outputs": [],
   "source": []
  },
  {
   "cell_type": "code",
   "execution_count": 81,
   "id": "d58f6177",
   "metadata": {},
   "outputs": [
    {
     "data": {
      "text/plain": [
       "destination\n",
       "madrid        1214369\n",
       "barcelona      479185\n",
       "sevilla        412366\n",
       "valencia       399214\n",
       "ponferrada      64973\n",
       "Name: count, dtype: int64"
      ]
     },
     "execution_count": 81,
     "metadata": {},
     "output_type": "execute_result"
    }
   ],
   "source": [
    "df['destination'].value_counts()"
   ]
  },
  {
   "cell_type": "markdown",
   "id": "809555a1",
   "metadata": {},
   "source": [
    "MADRID - 1, BARCELONA - 0, SEVILLA - 3, VALENCIA - 4, PONFERRADA - 2"
   ]
  },
  {
   "cell_type": "code",
   "execution_count": 82,
   "id": "9d6af5af",
   "metadata": {},
   "outputs": [
    {
     "data": {
      "text/plain": [
       "origin\n",
       "madrid        1355738\n",
       "barcelona      405536\n",
       "sevilla        395799\n",
       "valencia       322445\n",
       "ponferrada      90589\n",
       "Name: count, dtype: int64"
      ]
     },
     "execution_count": 82,
     "metadata": {},
     "output_type": "execute_result"
    }
   ],
   "source": [
    "df['origin'].value_counts()"
   ]
  },
  {
   "cell_type": "markdown",
   "id": "2a436d28",
   "metadata": {},
   "source": [
    "MADRID - 1, BARCELONA - 0, SEVILLA - 3, VALENCIA - 4, PONFERRADA - 2"
   ]
  },
  {
   "cell_type": "code",
   "execution_count": 83,
   "id": "b52ed63e",
   "metadata": {},
   "outputs": [
    {
     "data": {
      "text/plain": [
       "fare\n",
       "promo                  1733423\n",
       "flexible                582743\n",
       "adulto ida              179844\n",
       "promo +                  73778\n",
       "individual-flexible        214\n",
       "mesa                        99\n",
       "grupos ida                   6\n",
       "Name: count, dtype: int64"
      ]
     },
     "execution_count": 83,
     "metadata": {},
     "output_type": "execute_result"
    }
   ],
   "source": [
    "df['fare'].value_counts()"
   ]
  },
  {
   "cell_type": "markdown",
   "id": "575b5caf",
   "metadata": {},
   "source": [
    "Promo - 5, Flexible - 1, Adulto ida - 0, Promo + - 6, Individual Flexible - 4, Mesa - 3, Grupos Ida - 6"
   ]
  },
  {
   "cell_type": "code",
   "execution_count": 84,
   "id": "40bb20c7",
   "metadata": {},
   "outputs": [
    {
     "data": {
      "text/plain": [
       "train_class\n",
       "turista               1950303\n",
       "preferente             256082\n",
       "turista plus           192908\n",
       "turista con enlace     169549\n",
       "cama turista             1051\n",
       "cama g. clase             214\n",
       "Name: count, dtype: int64"
      ]
     },
     "execution_count": 84,
     "metadata": {},
     "output_type": "execute_result"
    }
   ],
   "source": [
    "df['train_class'].value_counts()"
   ]
  },
  {
   "cell_type": "markdown",
   "id": "4b0f054a",
   "metadata": {},
   "source": [
    "Turista - 3, Preferente -2, Turista Plus - 4, Turista con enlace - 5, Cama Turista - 0, Cama G. Clase - 1"
   ]
  },
  {
   "cell_type": "code",
   "execution_count": 85,
   "id": "dbb94ad0",
   "metadata": {},
   "outputs": [
    {
     "data": {
      "text/plain": [
       "train_type\n",
       "ave          1787182\n",
       "alvia         180888\n",
       "regional      145898\n",
       "intercity      99347\n",
       "av city        70656\n",
       "md-ld          50938\n",
       "ld             40056\n",
       "ave-tgv        34755\n",
       "ave-md         34008\n",
       "r. expres      31917\n",
       "ave-ld         31339\n",
       "ld-md          27138\n",
       "trenhotel      18266\n",
       "md-ave          7368\n",
       "md              5543\n",
       "ld-ave          4808\n",
       "Name: count, dtype: int64"
      ]
     },
     "execution_count": 85,
     "metadata": {},
     "output_type": "execute_result"
    }
   ],
   "source": [
    "df['train_type'].value_counts()"
   ]
  },
  {
   "cell_type": "markdown",
   "id": "6ef8d88f",
   "metadata": {},
   "source": [
    "AVE - 2, ALVIA - 0, REGIONAL - 14, INTERCITY - 6, AV City - 1 , MD-LD - 12, LD - 7 , AVE-TGV - 5, AVE-MD - 4, R. EXPRES - 13, AVE-LD - 3, LD-MD - 9, TRENHOTEL - 15, MD-AVE - 11, MD - 10, LD-AVE - 8"
   ]
  },
  {
   "cell_type": "code",
   "execution_count": 86,
   "id": "293356d1",
   "metadata": {},
   "outputs": [],
   "source": [
    "df['start_date'] = pd.to_datetime(df['start_date'])\n",
    "df['s_hour'] = df['start_date'].dt.hour\n",
    "df['s_day_of_week'] = df['start_date'].dt.dayofweek\n",
    "df['s_month'] = df['start_date'].dt.month"
   ]
  },
  {
   "cell_type": "code",
   "execution_count": 87,
   "id": "505c9c5c",
   "metadata": {},
   "outputs": [],
   "source": [
    "df['end_date'] = pd.to_datetime(df['end_date'])\n",
    "\n",
    "# Extract useful time-related features\n",
    "df['end_hour'] = df['end_date'].dt.hour\n",
    "df['end_day_of_week'] = df['end_date'].dt.dayofweek\n",
    "df['end_month'] = df['end_date'].dt.month"
   ]
  },
  {
   "cell_type": "code",
   "execution_count": 88,
   "id": "1198735a",
   "metadata": {},
   "outputs": [],
   "source": [
    "#travel duration of train in minutes \n",
    "df['start_date'] = pd.to_datetime(df['start_date'])\n",
    "df['travel_duration'] = (df['end_date'] - df['start_date']).dt.total_seconds() / 60 #in minutes"
   ]
  },
  {
   "cell_type": "code",
   "execution_count": 89,
   "id": "9e5406b3",
   "metadata": {},
   "outputs": [],
   "source": [
    "df = df.drop(columns=['end_date','start_date'],axis=1)"
   ]
  },
  {
   "cell_type": "code",
   "execution_count": 90,
   "id": "e756a832",
   "metadata": {},
   "outputs": [],
   "source": [
    "df=df.drop(columns=['s_hour','s_day_of_week','s_month','end_hour','end_day_of_week','end_month'],axis=1)"
   ]
  },
  {
   "cell_type": "code",
   "execution_count": 91,
   "id": "24e29f37",
   "metadata": {},
   "outputs": [
    {
     "data": {
      "text/html": [
       "<div>\n",
       "<style scoped>\n",
       "    .dataframe tbody tr th:only-of-type {\n",
       "        vertical-align: middle;\n",
       "    }\n",
       "\n",
       "    .dataframe tbody tr th {\n",
       "        vertical-align: top;\n",
       "    }\n",
       "\n",
       "    .dataframe thead th {\n",
       "        text-align: right;\n",
       "    }\n",
       "</style>\n",
       "<table border=\"1\" class=\"dataframe\">\n",
       "  <thead>\n",
       "    <tr style=\"text-align: right;\">\n",
       "      <th></th>\n",
       "      <th>origin</th>\n",
       "      <th>destination</th>\n",
       "      <th>train_type</th>\n",
       "      <th>price</th>\n",
       "      <th>train_class</th>\n",
       "      <th>fare</th>\n",
       "      <th>travel_duration</th>\n",
       "    </tr>\n",
       "  </thead>\n",
       "  <tbody>\n",
       "    <tr>\n",
       "      <th>0</th>\n",
       "      <td>madrid</td>\n",
       "      <td>sevilla</td>\n",
       "      <td>av city</td>\n",
       "      <td>38</td>\n",
       "      <td>turista</td>\n",
       "      <td>promo</td>\n",
       "      <td>176.0</td>\n",
       "    </tr>\n",
       "    <tr>\n",
       "      <th>1</th>\n",
       "      <td>madrid</td>\n",
       "      <td>sevilla</td>\n",
       "      <td>ave</td>\n",
       "      <td>53</td>\n",
       "      <td>turista</td>\n",
       "      <td>promo</td>\n",
       "      <td>152.0</td>\n",
       "    </tr>\n",
       "    <tr>\n",
       "      <th>2</th>\n",
       "      <td>madrid</td>\n",
       "      <td>sevilla</td>\n",
       "      <td>ave</td>\n",
       "      <td>47</td>\n",
       "      <td>turista</td>\n",
       "      <td>promo</td>\n",
       "      <td>141.0</td>\n",
       "    </tr>\n",
       "    <tr>\n",
       "      <th>3</th>\n",
       "      <td>madrid</td>\n",
       "      <td>sevilla</td>\n",
       "      <td>ave</td>\n",
       "      <td>69</td>\n",
       "      <td>preferente</td>\n",
       "      <td>promo</td>\n",
       "      <td>152.0</td>\n",
       "    </tr>\n",
       "    <tr>\n",
       "      <th>4</th>\n",
       "      <td>madrid</td>\n",
       "      <td>sevilla</td>\n",
       "      <td>alvia</td>\n",
       "      <td>63</td>\n",
       "      <td>turista</td>\n",
       "      <td>promo</td>\n",
       "      <td>164.0</td>\n",
       "    </tr>\n",
       "  </tbody>\n",
       "</table>\n",
       "</div>"
      ],
      "text/plain": [
       "   origin destination train_type  price train_class   fare  travel_duration\n",
       "0  madrid     sevilla    av city     38     turista  promo            176.0\n",
       "1  madrid     sevilla        ave     53     turista  promo            152.0\n",
       "2  madrid     sevilla        ave     47     turista  promo            141.0\n",
       "3  madrid     sevilla        ave     69  preferente  promo            152.0\n",
       "4  madrid     sevilla      alvia     63     turista  promo            164.0"
      ]
     },
     "execution_count": 91,
     "metadata": {},
     "output_type": "execute_result"
    }
   ],
   "source": [
    "df.head()"
   ]
  },
  {
   "cell_type": "markdown",
   "id": "f349a6bb",
   "metadata": {},
   "source": [
    "# model selection"
   ]
  },
  {
   "cell_type": "code",
   "execution_count": 92,
   "id": "7f3a19fb",
   "metadata": {},
   "outputs": [],
   "source": [
    "X=df.drop(columns=['price'])\n",
    "y=df['price']"
   ]
  },
  {
   "cell_type": "code",
   "execution_count": 93,
   "id": "7880cb20",
   "metadata": {},
   "outputs": [],
   "source": [
    "X_train, X_test, y_train, y_test = train_test_split(X, y, test_size=0.2, random_state=42)"
   ]
  },
  {
   "cell_type": "code",
   "execution_count": 95,
   "id": "8f7d984a",
   "metadata": {},
   "outputs": [],
   "source": [
    "from sklearn.preprocessing import StandardScaler, LabelEncoder\n",
    "\n",
    "# Identify categorical columns\n",
    "categorical_cols = [\"origin\", \"destination\", \"train_type\", \"train_class\", \"fare\"]\n",
    "\n",
    "# Encode categorical columns\n",
    "label_encoders = {}\n",
    "for col in categorical_cols:\n",
    "    le = LabelEncoder()\n",
    "    X_train[col] = le.fit_transform(X_train[col])  # Encode training data\n",
    "    X_test[col] = le.transform(X_test[col])  # Encode test data\n",
    "    label_encoders[col] = le  # Store the encoder for later use\n",
    "\n",
    "# Now apply StandardScaler\n",
    "scaler = StandardScaler()\n",
    "X_train_scaled = scaler.fit_transform(X_train)\n",
    "X_test_scaled = scaler.transform(X_test)"
   ]
  },
  {
   "cell_type": "code",
   "execution_count": 96,
   "id": "dec893a4",
   "metadata": {},
   "outputs": [],
   "source": [
    "lr = LinearRegression()\n",
    "lr.fit(X_train, y_train)\n",
    "\n",
    "# Make predictions\n",
    "y_pred = lr.predict(X_test)"
   ]
  },
  {
   "cell_type": "code",
   "execution_count": 97,
   "id": "236f1536",
   "metadata": {},
   "outputs": [
    {
     "name": "stdout",
     "output_type": "stream",
     "text": [
      "MAE: 10.904705443992322\n",
      "MSE: 219.47543299902412\n",
      "R2 Score: 0.6270256989393816\n"
     ]
    }
   ],
   "source": [
    "print(\"MAE:\", mean_absolute_error(y_test, y_pred))\n",
    "print(\"MSE:\", mean_squared_error(y_test, y_pred))\n",
    "print(\"R2 Score:\", r2_score(y_test, y_pred))"
   ]
  },
  {
   "cell_type": "code",
   "execution_count": 98,
   "id": "26686869",
   "metadata": {},
   "outputs": [
    {
     "name": "stdout",
     "output_type": "stream",
     "text": [
      "Random Forest MAE: 6.697313862704058\n",
      "Random Forest MSE: 104.93270600697299\n",
      "Random Forest R2 Score: 0.8216784350459665\n"
     ]
    }
   ],
   "source": [
    "rf = RandomForestRegressor(n_estimators=100,max_depth=10)\n",
    "rf.fit(X_train, y_train)\n",
    "\n",
    "y_pred_rf = rf.predict(X_test)\n",
    "\n",
    "print(\"Random Forest MAE:\", mean_absolute_error(y_test, y_pred_rf))\n",
    "print(\"Random Forest MSE:\", mean_squared_error(y_test, y_pred_rf))\n",
    "print(\"Random Forest R2 Score:\", r2_score(y_test, y_pred_rf))"
   ]
  },
  {
   "cell_type": "markdown",
   "id": "427200ec",
   "metadata": {},
   "source": [
    "# saving the model"
   ]
  },
  {
   "cell_type": "code",
   "execution_count": 99,
   "id": "db6dcb44",
   "metadata": {},
   "outputs": [
    {
     "name": "stdout",
     "output_type": "stream",
     "text": [
      "Model parameters saved successfully as train_price_model_params.json\n"
     ]
    }
   ],
   "source": [
    "import json\n",
    "from sklearn.ensemble import RandomForestRegressor\n",
    "\n",
    "# Save model parameters\n",
    "params = rf.get_params()\n",
    "with open(\"train_price_model_params.json\", \"w\") as f:\n",
    "    json.dump(params, f)\n",
    "\n",
    "print(\"Model parameters saved successfully as train_price_model_params.json\")"
   ]
  },
  {
   "cell_type": "code",
   "execution_count": null,
   "id": "8c6c1de0",
   "metadata": {},
   "outputs": [],
   "source": []
  },
  {
   "cell_type": "code",
   "execution_count": null,
   "id": "b72ad6ac",
   "metadata": {},
   "outputs": [],
   "source": []
  },
  {
   "cell_type": "code",
   "execution_count": null,
   "id": "8b5cb71c",
   "metadata": {},
   "outputs": [],
   "source": []
  }
 ],
 "metadata": {
  "kernelspec": {
   "display_name": "Python (tf_env)",
   "language": "python",
   "name": "tf_env"
  },
  "language_info": {
   "codemirror_mode": {
    "name": "ipython",
    "version": 3
   },
   "file_extension": ".py",
   "mimetype": "text/x-python",
   "name": "python",
   "nbconvert_exporter": "python",
   "pygments_lexer": "ipython3",
   "version": "3.10.16"
  }
 },
 "nbformat": 4,
 "nbformat_minor": 5
}
