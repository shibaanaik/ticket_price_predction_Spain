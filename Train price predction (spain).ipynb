{
 "cells": [
  {
   "cell_type": "code",
   "execution_count": 1,
   "id": "4ca99b5c",
   "metadata": {},
   "outputs": [],
   "source": [
    "import pandas as pd \n",
    "import numpy as np\n",
    "import matplotlib.pyplot as plt\n",
    "import seaborn as sns\n"
   ]
  },
  {
   "cell_type": "code",
   "execution_count": 2,
   "id": "1de2c19a",
   "metadata": {},
   "outputs": [],
   "source": [
    "df=pd.read_csv(\"public_transportation_data.csv\")"
   ]
  },
  {
   "cell_type": "code",
   "execution_count": 3,
   "id": "b05156b8",
   "metadata": {},
   "outputs": [
    {
     "data": {
      "text/html": [
       "<div>\n",
       "<style scoped>\n",
       "    .dataframe tbody tr th:only-of-type {\n",
       "        vertical-align: middle;\n",
       "    }\n",
       "\n",
       "    .dataframe tbody tr th {\n",
       "        vertical-align: top;\n",
       "    }\n",
       "\n",
       "    .dataframe thead th {\n",
       "        text-align: right;\n",
       "    }\n",
       "</style>\n",
       "<table border=\"1\" class=\"dataframe\">\n",
       "  <thead>\n",
       "    <tr style=\"text-align: right;\">\n",
       "      <th></th>\n",
       "      <th>Unnamed: 0</th>\n",
       "      <th>insert_date</th>\n",
       "      <th>origin</th>\n",
       "      <th>destination</th>\n",
       "      <th>start_date</th>\n",
       "      <th>end_date</th>\n",
       "      <th>train_type</th>\n",
       "      <th>price</th>\n",
       "      <th>train_class</th>\n",
       "      <th>fare</th>\n",
       "    </tr>\n",
       "  </thead>\n",
       "  <tbody>\n",
       "    <tr>\n",
       "      <th>0</th>\n",
       "      <td>0</td>\n",
       "      <td>2019-04-19 05:31:43</td>\n",
       "      <td>MADRID</td>\n",
       "      <td>SEVILLA</td>\n",
       "      <td>2019-05-29 06:20:00</td>\n",
       "      <td>2019-05-29 09:16:00</td>\n",
       "      <td>AV City</td>\n",
       "      <td>38.55</td>\n",
       "      <td>Turista</td>\n",
       "      <td>Promo</td>\n",
       "    </tr>\n",
       "    <tr>\n",
       "      <th>1</th>\n",
       "      <td>1</td>\n",
       "      <td>2019-04-19 05:31:43</td>\n",
       "      <td>MADRID</td>\n",
       "      <td>SEVILLA</td>\n",
       "      <td>2019-05-29 07:00:00</td>\n",
       "      <td>2019-05-29 09:32:00</td>\n",
       "      <td>AVE</td>\n",
       "      <td>53.40</td>\n",
       "      <td>Turista</td>\n",
       "      <td>Promo</td>\n",
       "    </tr>\n",
       "    <tr>\n",
       "      <th>2</th>\n",
       "      <td>2</td>\n",
       "      <td>2019-04-19 05:31:43</td>\n",
       "      <td>MADRID</td>\n",
       "      <td>SEVILLA</td>\n",
       "      <td>2019-05-29 07:30:00</td>\n",
       "      <td>2019-05-29 09:51:00</td>\n",
       "      <td>AVE</td>\n",
       "      <td>47.30</td>\n",
       "      <td>Turista</td>\n",
       "      <td>Promo</td>\n",
       "    </tr>\n",
       "    <tr>\n",
       "      <th>3</th>\n",
       "      <td>3</td>\n",
       "      <td>2019-04-19 05:31:43</td>\n",
       "      <td>MADRID</td>\n",
       "      <td>SEVILLA</td>\n",
       "      <td>2019-05-29 08:00:00</td>\n",
       "      <td>2019-05-29 10:32:00</td>\n",
       "      <td>AVE</td>\n",
       "      <td>69.40</td>\n",
       "      <td>Preferente</td>\n",
       "      <td>Promo</td>\n",
       "    </tr>\n",
       "    <tr>\n",
       "      <th>4</th>\n",
       "      <td>4</td>\n",
       "      <td>2019-04-19 05:31:43</td>\n",
       "      <td>MADRID</td>\n",
       "      <td>SEVILLA</td>\n",
       "      <td>2019-05-29 08:30:00</td>\n",
       "      <td>2019-05-29 11:14:00</td>\n",
       "      <td>ALVIA</td>\n",
       "      <td>NaN</td>\n",
       "      <td>Turista</td>\n",
       "      <td>Promo</td>\n",
       "    </tr>\n",
       "    <tr>\n",
       "      <th>5</th>\n",
       "      <td>5</td>\n",
       "      <td>2019-04-19 05:31:43</td>\n",
       "      <td>MADRID</td>\n",
       "      <td>SEVILLA</td>\n",
       "      <td>2019-05-29 09:00:00</td>\n",
       "      <td>2019-05-29 11:38:00</td>\n",
       "      <td>AVE</td>\n",
       "      <td>60.30</td>\n",
       "      <td>Turista</td>\n",
       "      <td>Promo</td>\n",
       "    </tr>\n",
       "    <tr>\n",
       "      <th>6</th>\n",
       "      <td>6</td>\n",
       "      <td>2019-04-19 05:31:43</td>\n",
       "      <td>MADRID</td>\n",
       "      <td>SEVILLA</td>\n",
       "      <td>2019-05-29 09:45:00</td>\n",
       "      <td>2019-05-29 12:27:00</td>\n",
       "      <td>INTERCITY</td>\n",
       "      <td>62.20</td>\n",
       "      <td>Turista</td>\n",
       "      <td>Flexible</td>\n",
       "    </tr>\n",
       "    <tr>\n",
       "      <th>7</th>\n",
       "      <td>7</td>\n",
       "      <td>2019-04-19 05:31:43</td>\n",
       "      <td>MADRID</td>\n",
       "      <td>SEVILLA</td>\n",
       "      <td>2019-05-29 10:00:00</td>\n",
       "      <td>2019-05-29 12:32:00</td>\n",
       "      <td>AVE</td>\n",
       "      <td>47.30</td>\n",
       "      <td>Turista</td>\n",
       "      <td>Promo</td>\n",
       "    </tr>\n",
       "    <tr>\n",
       "      <th>8</th>\n",
       "      <td>8</td>\n",
       "      <td>2019-04-19 05:31:43</td>\n",
       "      <td>MADRID</td>\n",
       "      <td>SEVILLA</td>\n",
       "      <td>2019-05-29 11:00:00</td>\n",
       "      <td>2019-05-29 13:32:00</td>\n",
       "      <td>AVE</td>\n",
       "      <td>53.40</td>\n",
       "      <td>Turista</td>\n",
       "      <td>Promo</td>\n",
       "    </tr>\n",
       "    <tr>\n",
       "      <th>9</th>\n",
       "      <td>9</td>\n",
       "      <td>2019-04-19 05:31:43</td>\n",
       "      <td>MADRID</td>\n",
       "      <td>SEVILLA</td>\n",
       "      <td>2019-05-29 11:05:00</td>\n",
       "      <td>2019-05-29 13:41:00</td>\n",
       "      <td>ALVIA</td>\n",
       "      <td>NaN</td>\n",
       "      <td>Turista</td>\n",
       "      <td>Promo</td>\n",
       "    </tr>\n",
       "  </tbody>\n",
       "</table>\n",
       "</div>"
      ],
      "text/plain": [
       "   Unnamed: 0          insert_date  origin destination           start_date  \\\n",
       "0           0  2019-04-19 05:31:43  MADRID     SEVILLA  2019-05-29 06:20:00   \n",
       "1           1  2019-04-19 05:31:43  MADRID     SEVILLA  2019-05-29 07:00:00   \n",
       "2           2  2019-04-19 05:31:43  MADRID     SEVILLA  2019-05-29 07:30:00   \n",
       "3           3  2019-04-19 05:31:43  MADRID     SEVILLA  2019-05-29 08:00:00   \n",
       "4           4  2019-04-19 05:31:43  MADRID     SEVILLA  2019-05-29 08:30:00   \n",
       "5           5  2019-04-19 05:31:43  MADRID     SEVILLA  2019-05-29 09:00:00   \n",
       "6           6  2019-04-19 05:31:43  MADRID     SEVILLA  2019-05-29 09:45:00   \n",
       "7           7  2019-04-19 05:31:43  MADRID     SEVILLA  2019-05-29 10:00:00   \n",
       "8           8  2019-04-19 05:31:43  MADRID     SEVILLA  2019-05-29 11:00:00   \n",
       "9           9  2019-04-19 05:31:43  MADRID     SEVILLA  2019-05-29 11:05:00   \n",
       "\n",
       "              end_date train_type  price train_class      fare  \n",
       "0  2019-05-29 09:16:00    AV City  38.55     Turista     Promo  \n",
       "1  2019-05-29 09:32:00        AVE  53.40     Turista     Promo  \n",
       "2  2019-05-29 09:51:00        AVE  47.30     Turista     Promo  \n",
       "3  2019-05-29 10:32:00        AVE  69.40  Preferente     Promo  \n",
       "4  2019-05-29 11:14:00      ALVIA    NaN     Turista     Promo  \n",
       "5  2019-05-29 11:38:00        AVE  60.30     Turista     Promo  \n",
       "6  2019-05-29 12:27:00  INTERCITY  62.20     Turista  Flexible  \n",
       "7  2019-05-29 12:32:00        AVE  47.30     Turista     Promo  \n",
       "8  2019-05-29 13:32:00        AVE  53.40     Turista     Promo  \n",
       "9  2019-05-29 13:41:00      ALVIA    NaN     Turista     Promo  "
      ]
     },
     "execution_count": 3,
     "metadata": {},
     "output_type": "execute_result"
    }
   ],
   "source": [
    "df.head(10)"
   ]
  },
  {
   "cell_type": "code",
   "execution_count": 4,
   "id": "58614684",
   "metadata": {},
   "outputs": [
    {
     "data": {
      "text/html": [
       "<div>\n",
       "<style scoped>\n",
       "    .dataframe tbody tr th:only-of-type {\n",
       "        vertical-align: middle;\n",
       "    }\n",
       "\n",
       "    .dataframe tbody tr th {\n",
       "        vertical-align: top;\n",
       "    }\n",
       "\n",
       "    .dataframe thead th {\n",
       "        text-align: right;\n",
       "    }\n",
       "</style>\n",
       "<table border=\"1\" class=\"dataframe\">\n",
       "  <thead>\n",
       "    <tr style=\"text-align: right;\">\n",
       "      <th></th>\n",
       "      <th>Unnamed: 0</th>\n",
       "      <th>insert_date</th>\n",
       "      <th>origin</th>\n",
       "      <th>destination</th>\n",
       "      <th>start_date</th>\n",
       "      <th>end_date</th>\n",
       "      <th>train_type</th>\n",
       "      <th>price</th>\n",
       "      <th>train_class</th>\n",
       "      <th>fare</th>\n",
       "    </tr>\n",
       "  </thead>\n",
       "  <tbody>\n",
       "    <tr>\n",
       "      <th>2579761</th>\n",
       "      <td>2579761</td>\n",
       "      <td>2019-04-19 05:31:38</td>\n",
       "      <td>MADRID</td>\n",
       "      <td>SEVILLA</td>\n",
       "      <td>2019-05-30 16:00:00</td>\n",
       "      <td>2019-05-30 18:30:00</td>\n",
       "      <td>AVE</td>\n",
       "      <td>76.30</td>\n",
       "      <td>Turista</td>\n",
       "      <td>Flexible</td>\n",
       "    </tr>\n",
       "    <tr>\n",
       "      <th>2579762</th>\n",
       "      <td>2579762</td>\n",
       "      <td>2019-04-19 05:31:38</td>\n",
       "      <td>MADRID</td>\n",
       "      <td>SEVILLA</td>\n",
       "      <td>2019-05-30 16:30:00</td>\n",
       "      <td>2019-05-30 18:51:00</td>\n",
       "      <td>AVE</td>\n",
       "      <td>76.30</td>\n",
       "      <td>Turista</td>\n",
       "      <td>Flexible</td>\n",
       "    </tr>\n",
       "    <tr>\n",
       "      <th>2579763</th>\n",
       "      <td>2579763</td>\n",
       "      <td>2019-04-19 05:31:38</td>\n",
       "      <td>MADRID</td>\n",
       "      <td>SEVILLA</td>\n",
       "      <td>2019-05-30 17:00:00</td>\n",
       "      <td>2019-05-30 19:38:00</td>\n",
       "      <td>AVE</td>\n",
       "      <td>76.30</td>\n",
       "      <td>Turista</td>\n",
       "      <td>Flexible</td>\n",
       "    </tr>\n",
       "    <tr>\n",
       "      <th>2579764</th>\n",
       "      <td>2579764</td>\n",
       "      <td>2019-04-19 05:31:38</td>\n",
       "      <td>MADRID</td>\n",
       "      <td>SEVILLA</td>\n",
       "      <td>2019-05-30 18:00:00</td>\n",
       "      <td>2019-05-30 20:32:00</td>\n",
       "      <td>AVE</td>\n",
       "      <td>60.30</td>\n",
       "      <td>Turista</td>\n",
       "      <td>Promo</td>\n",
       "    </tr>\n",
       "    <tr>\n",
       "      <th>2579765</th>\n",
       "      <td>2579765</td>\n",
       "      <td>2019-04-19 05:31:38</td>\n",
       "      <td>MADRID</td>\n",
       "      <td>SEVILLA</td>\n",
       "      <td>2019-05-30 18:35:00</td>\n",
       "      <td>2019-05-30 21:08:00</td>\n",
       "      <td>ALVIA</td>\n",
       "      <td>67.20</td>\n",
       "      <td>Turista</td>\n",
       "      <td>Flexible</td>\n",
       "    </tr>\n",
       "    <tr>\n",
       "      <th>2579766</th>\n",
       "      <td>2579766</td>\n",
       "      <td>2019-04-19 05:31:38</td>\n",
       "      <td>MADRID</td>\n",
       "      <td>SEVILLA</td>\n",
       "      <td>2019-05-30 19:00:00</td>\n",
       "      <td>2019-05-30 21:38:00</td>\n",
       "      <td>AVE</td>\n",
       "      <td>76.30</td>\n",
       "      <td>Turista</td>\n",
       "      <td>Flexible</td>\n",
       "    </tr>\n",
       "    <tr>\n",
       "      <th>2579767</th>\n",
       "      <td>2579767</td>\n",
       "      <td>2019-04-19 05:31:38</td>\n",
       "      <td>MADRID</td>\n",
       "      <td>SEVILLA</td>\n",
       "      <td>2019-05-30 19:30:00</td>\n",
       "      <td>2019-05-30 22:05:00</td>\n",
       "      <td>AVE</td>\n",
       "      <td>76.30</td>\n",
       "      <td>Turista</td>\n",
       "      <td>Flexible</td>\n",
       "    </tr>\n",
       "    <tr>\n",
       "      <th>2579768</th>\n",
       "      <td>2579768</td>\n",
       "      <td>2019-04-19 05:31:38</td>\n",
       "      <td>MADRID</td>\n",
       "      <td>SEVILLA</td>\n",
       "      <td>2019-05-30 20:00:00</td>\n",
       "      <td>2019-05-30 22:21:00</td>\n",
       "      <td>AVE</td>\n",
       "      <td>72.30</td>\n",
       "      <td>Turista Plus</td>\n",
       "      <td>Promo</td>\n",
       "    </tr>\n",
       "    <tr>\n",
       "      <th>2579769</th>\n",
       "      <td>2579769</td>\n",
       "      <td>2019-04-19 05:31:38</td>\n",
       "      <td>MADRID</td>\n",
       "      <td>SEVILLA</td>\n",
       "      <td>2019-05-30 20:35:00</td>\n",
       "      <td>2019-05-30 23:15:00</td>\n",
       "      <td>AVE</td>\n",
       "      <td>76.30</td>\n",
       "      <td>Turista</td>\n",
       "      <td>Flexible</td>\n",
       "    </tr>\n",
       "    <tr>\n",
       "      <th>2579770</th>\n",
       "      <td>2579770</td>\n",
       "      <td>2019-04-19 05:31:38</td>\n",
       "      <td>MADRID</td>\n",
       "      <td>SEVILLA</td>\n",
       "      <td>2019-05-30 21:25:00</td>\n",
       "      <td>2019-05-31 00:10:00</td>\n",
       "      <td>AV City</td>\n",
       "      <td>49.15</td>\n",
       "      <td>Turista</td>\n",
       "      <td>Promo</td>\n",
       "    </tr>\n",
       "  </tbody>\n",
       "</table>\n",
       "</div>"
      ],
      "text/plain": [
       "         Unnamed: 0          insert_date  origin destination  \\\n",
       "2579761     2579761  2019-04-19 05:31:38  MADRID     SEVILLA   \n",
       "2579762     2579762  2019-04-19 05:31:38  MADRID     SEVILLA   \n",
       "2579763     2579763  2019-04-19 05:31:38  MADRID     SEVILLA   \n",
       "2579764     2579764  2019-04-19 05:31:38  MADRID     SEVILLA   \n",
       "2579765     2579765  2019-04-19 05:31:38  MADRID     SEVILLA   \n",
       "2579766     2579766  2019-04-19 05:31:38  MADRID     SEVILLA   \n",
       "2579767     2579767  2019-04-19 05:31:38  MADRID     SEVILLA   \n",
       "2579768     2579768  2019-04-19 05:31:38  MADRID     SEVILLA   \n",
       "2579769     2579769  2019-04-19 05:31:38  MADRID     SEVILLA   \n",
       "2579770     2579770  2019-04-19 05:31:38  MADRID     SEVILLA   \n",
       "\n",
       "                  start_date             end_date train_type  price  \\\n",
       "2579761  2019-05-30 16:00:00  2019-05-30 18:30:00        AVE  76.30   \n",
       "2579762  2019-05-30 16:30:00  2019-05-30 18:51:00        AVE  76.30   \n",
       "2579763  2019-05-30 17:00:00  2019-05-30 19:38:00        AVE  76.30   \n",
       "2579764  2019-05-30 18:00:00  2019-05-30 20:32:00        AVE  60.30   \n",
       "2579765  2019-05-30 18:35:00  2019-05-30 21:08:00      ALVIA  67.20   \n",
       "2579766  2019-05-30 19:00:00  2019-05-30 21:38:00        AVE  76.30   \n",
       "2579767  2019-05-30 19:30:00  2019-05-30 22:05:00        AVE  76.30   \n",
       "2579768  2019-05-30 20:00:00  2019-05-30 22:21:00        AVE  72.30   \n",
       "2579769  2019-05-30 20:35:00  2019-05-30 23:15:00        AVE  76.30   \n",
       "2579770  2019-05-30 21:25:00  2019-05-31 00:10:00    AV City  49.15   \n",
       "\n",
       "          train_class      fare  \n",
       "2579761       Turista  Flexible  \n",
       "2579762       Turista  Flexible  \n",
       "2579763       Turista  Flexible  \n",
       "2579764       Turista     Promo  \n",
       "2579765       Turista  Flexible  \n",
       "2579766       Turista  Flexible  \n",
       "2579767       Turista  Flexible  \n",
       "2579768  Turista Plus     Promo  \n",
       "2579769       Turista  Flexible  \n",
       "2579770       Turista     Promo  "
      ]
     },
     "execution_count": 4,
     "metadata": {},
     "output_type": "execute_result"
    }
   ],
   "source": [
    "df.tail(10)"
   ]
  },
  {
   "cell_type": "code",
   "execution_count": 5,
   "id": "dfd264bb",
   "metadata": {},
   "outputs": [],
   "source": [
    "df=df.drop(columns=['Unnamed: 0'])"
   ]
  },
  {
   "cell_type": "code",
   "execution_count": 6,
   "id": "8377ef5b",
   "metadata": {},
   "outputs": [],
   "source": [
    "df=df.drop(columns=['insert_date'],axis=1)"
   ]
  },
  {
   "cell_type": "code",
   "execution_count": 7,
   "id": "9c027e21",
   "metadata": {},
   "outputs": [
    {
     "name": "stdout",
     "output_type": "stream",
     "text": [
      "<class 'pandas.core.frame.DataFrame'>\n",
      "RangeIndex: 2579771 entries, 0 to 2579770\n",
      "Data columns (total 8 columns):\n",
      " #   Column       Dtype  \n",
      "---  ------       -----  \n",
      " 0   origin       object \n",
      " 1   destination  object \n",
      " 2   start_date   object \n",
      " 3   end_date     object \n",
      " 4   train_type   object \n",
      " 5   price        float64\n",
      " 6   train_class  object \n",
      " 7   fare         object \n",
      "dtypes: float64(1), object(7)\n",
      "memory usage: 157.5+ MB\n"
     ]
    }
   ],
   "source": [
    "df.info()"
   ]
  },
  {
   "cell_type": "code",
   "execution_count": 8,
   "id": "d7973202",
   "metadata": {},
   "outputs": [
    {
     "data": {
      "text/plain": [
       "origin              0\n",
       "destination         0\n",
       "start_date          0\n",
       "end_date            0\n",
       "train_type          0\n",
       "price          310681\n",
       "train_class      9664\n",
       "fare             9664\n",
       "dtype: int64"
      ]
     },
     "execution_count": 8,
     "metadata": {},
     "output_type": "execute_result"
    }
   ],
   "source": [
    "df.isnull().sum()"
   ]
  },
  {
   "cell_type": "code",
   "execution_count": 9,
   "id": "53262a8d",
   "metadata": {},
   "outputs": [
    {
     "data": {
      "text/html": [
       "<div>\n",
       "<style scoped>\n",
       "    .dataframe tbody tr th:only-of-type {\n",
       "        vertical-align: middle;\n",
       "    }\n",
       "\n",
       "    .dataframe tbody tr th {\n",
       "        vertical-align: top;\n",
       "    }\n",
       "\n",
       "    .dataframe thead th {\n",
       "        text-align: right;\n",
       "    }\n",
       "</style>\n",
       "<table border=\"1\" class=\"dataframe\">\n",
       "  <thead>\n",
       "    <tr style=\"text-align: right;\">\n",
       "      <th></th>\n",
       "      <th>price</th>\n",
       "    </tr>\n",
       "  </thead>\n",
       "  <tbody>\n",
       "    <tr>\n",
       "      <th>count</th>\n",
       "      <td>2.269090e+06</td>\n",
       "    </tr>\n",
       "    <tr>\n",
       "      <th>mean</th>\n",
       "      <td>6.338550e+01</td>\n",
       "    </tr>\n",
       "    <tr>\n",
       "      <th>std</th>\n",
       "      <td>2.578319e+01</td>\n",
       "    </tr>\n",
       "    <tr>\n",
       "      <th>min</th>\n",
       "      <td>1.545000e+01</td>\n",
       "    </tr>\n",
       "    <tr>\n",
       "      <th>25%</th>\n",
       "      <td>4.375000e+01</td>\n",
       "    </tr>\n",
       "    <tr>\n",
       "      <th>50%</th>\n",
       "      <td>6.030000e+01</td>\n",
       "    </tr>\n",
       "    <tr>\n",
       "      <th>75%</th>\n",
       "      <td>7.880000e+01</td>\n",
       "    </tr>\n",
       "    <tr>\n",
       "      <th>max</th>\n",
       "      <td>2.142000e+02</td>\n",
       "    </tr>\n",
       "  </tbody>\n",
       "</table>\n",
       "</div>"
      ],
      "text/plain": [
       "              price\n",
       "count  2.269090e+06\n",
       "mean   6.338550e+01\n",
       "std    2.578319e+01\n",
       "min    1.545000e+01\n",
       "25%    4.375000e+01\n",
       "50%    6.030000e+01\n",
       "75%    7.880000e+01\n",
       "max    2.142000e+02"
      ]
     },
     "execution_count": 9,
     "metadata": {},
     "output_type": "execute_result"
    }
   ],
   "source": [
    "df.describe()"
   ]
  },
  {
   "cell_type": "code",
   "execution_count": 10,
   "id": "8ae60c70",
   "metadata": {},
   "outputs": [
    {
     "data": {
      "text/plain": [
       "fare\n",
       "Promo                  1733423\n",
       "Flexible                582743\n",
       "Adulto ida              179844\n",
       "Promo +                  73778\n",
       "Individual-Flexible        214\n",
       "Mesa                        99\n",
       "Grupos Ida                   6\n",
       "Name: count, dtype: int64"
      ]
     },
     "execution_count": 10,
     "metadata": {},
     "output_type": "execute_result"
    }
   ],
   "source": [
    "df['fare'].value_counts()"
   ]
  },
  {
   "cell_type": "code",
   "execution_count": 11,
   "id": "1cef2f03",
   "metadata": {},
   "outputs": [
    {
     "data": {
      "text/plain": [
       "train_type\n",
       "AVE          1789258\n",
       "ALVIA         182267\n",
       "REGIONAL      145898\n",
       "INTERCITY      99840\n",
       "AV City        72791\n",
       "MD-LD          51585\n",
       "LD             41209\n",
       "AVE-TGV        34755\n",
       "AVE-MD         34182\n",
       "R. EXPRES      31918\n",
       "AVE-LD         31472\n",
       "LD-MD          27305\n",
       "TRENHOTEL      19348\n",
       "MD-AVE          7592\n",
       "MD              5543\n",
       "LD-AVE          4808\n",
       "Name: count, dtype: int64"
      ]
     },
     "execution_count": 11,
     "metadata": {},
     "output_type": "execute_result"
    }
   ],
   "source": [
    "df['train_type'].value_counts()"
   ]
  },
  {
   "cell_type": "code",
   "execution_count": 12,
   "id": "21fa2f9e",
   "metadata": {},
   "outputs": [
    {
     "data": {
      "text/plain": [
       "np.float64(63.385503417669646)"
      ]
     },
     "execution_count": 12,
     "metadata": {},
     "output_type": "execute_result"
    }
   ],
   "source": [
    "df['price'].mean()"
   ]
  },
  {
   "cell_type": "code",
   "execution_count": 13,
   "id": "86b756fc",
   "metadata": {},
   "outputs": [],
   "source": [
    "df['price']=df['price'].fillna('63')"
   ]
  },
  {
   "cell_type": "code",
   "execution_count": 14,
   "id": "bbdebc5e",
   "metadata": {},
   "outputs": [
    {
     "data": {
      "text/html": [
       "<div>\n",
       "<style scoped>\n",
       "    .dataframe tbody tr th:only-of-type {\n",
       "        vertical-align: middle;\n",
       "    }\n",
       "\n",
       "    .dataframe tbody tr th {\n",
       "        vertical-align: top;\n",
       "    }\n",
       "\n",
       "    .dataframe thead th {\n",
       "        text-align: right;\n",
       "    }\n",
       "</style>\n",
       "<table border=\"1\" class=\"dataframe\">\n",
       "  <thead>\n",
       "    <tr style=\"text-align: right;\">\n",
       "      <th></th>\n",
       "      <th>origin</th>\n",
       "      <th>destination</th>\n",
       "      <th>start_date</th>\n",
       "      <th>end_date</th>\n",
       "      <th>train_type</th>\n",
       "      <th>price</th>\n",
       "      <th>train_class</th>\n",
       "      <th>fare</th>\n",
       "    </tr>\n",
       "  </thead>\n",
       "  <tbody>\n",
       "    <tr>\n",
       "      <th>0</th>\n",
       "      <td>MADRID</td>\n",
       "      <td>SEVILLA</td>\n",
       "      <td>2019-05-29 06:20:00</td>\n",
       "      <td>2019-05-29 09:16:00</td>\n",
       "      <td>AV City</td>\n",
       "      <td>38.55</td>\n",
       "      <td>Turista</td>\n",
       "      <td>Promo</td>\n",
       "    </tr>\n",
       "    <tr>\n",
       "      <th>1</th>\n",
       "      <td>MADRID</td>\n",
       "      <td>SEVILLA</td>\n",
       "      <td>2019-05-29 07:00:00</td>\n",
       "      <td>2019-05-29 09:32:00</td>\n",
       "      <td>AVE</td>\n",
       "      <td>53.4</td>\n",
       "      <td>Turista</td>\n",
       "      <td>Promo</td>\n",
       "    </tr>\n",
       "    <tr>\n",
       "      <th>2</th>\n",
       "      <td>MADRID</td>\n",
       "      <td>SEVILLA</td>\n",
       "      <td>2019-05-29 07:30:00</td>\n",
       "      <td>2019-05-29 09:51:00</td>\n",
       "      <td>AVE</td>\n",
       "      <td>47.3</td>\n",
       "      <td>Turista</td>\n",
       "      <td>Promo</td>\n",
       "    </tr>\n",
       "    <tr>\n",
       "      <th>3</th>\n",
       "      <td>MADRID</td>\n",
       "      <td>SEVILLA</td>\n",
       "      <td>2019-05-29 08:00:00</td>\n",
       "      <td>2019-05-29 10:32:00</td>\n",
       "      <td>AVE</td>\n",
       "      <td>69.4</td>\n",
       "      <td>Preferente</td>\n",
       "      <td>Promo</td>\n",
       "    </tr>\n",
       "    <tr>\n",
       "      <th>4</th>\n",
       "      <td>MADRID</td>\n",
       "      <td>SEVILLA</td>\n",
       "      <td>2019-05-29 08:30:00</td>\n",
       "      <td>2019-05-29 11:14:00</td>\n",
       "      <td>ALVIA</td>\n",
       "      <td>63</td>\n",
       "      <td>Turista</td>\n",
       "      <td>Promo</td>\n",
       "    </tr>\n",
       "  </tbody>\n",
       "</table>\n",
       "</div>"
      ],
      "text/plain": [
       "   origin destination           start_date             end_date train_type  \\\n",
       "0  MADRID     SEVILLA  2019-05-29 06:20:00  2019-05-29 09:16:00    AV City   \n",
       "1  MADRID     SEVILLA  2019-05-29 07:00:00  2019-05-29 09:32:00        AVE   \n",
       "2  MADRID     SEVILLA  2019-05-29 07:30:00  2019-05-29 09:51:00        AVE   \n",
       "3  MADRID     SEVILLA  2019-05-29 08:00:00  2019-05-29 10:32:00        AVE   \n",
       "4  MADRID     SEVILLA  2019-05-29 08:30:00  2019-05-29 11:14:00      ALVIA   \n",
       "\n",
       "   price train_class   fare  \n",
       "0  38.55     Turista  Promo  \n",
       "1   53.4     Turista  Promo  \n",
       "2   47.3     Turista  Promo  \n",
       "3   69.4  Preferente  Promo  \n",
       "4     63     Turista  Promo  "
      ]
     },
     "execution_count": 14,
     "metadata": {},
     "output_type": "execute_result"
    }
   ],
   "source": [
    "df.head()"
   ]
  },
  {
   "cell_type": "code",
   "execution_count": 15,
   "id": "cb7841fe",
   "metadata": {},
   "outputs": [],
   "source": [
    "df['price']=df['price'].astype(int)"
   ]
  },
  {
   "cell_type": "code",
   "execution_count": 16,
   "id": "8ba60a1f",
   "metadata": {},
   "outputs": [
    {
     "data": {
      "text/plain": [
       "origin            0\n",
       "destination       0\n",
       "start_date        0\n",
       "end_date          0\n",
       "train_type        0\n",
       "price             0\n",
       "train_class    9664\n",
       "fare           9664\n",
       "dtype: int64"
      ]
     },
     "execution_count": 16,
     "metadata": {},
     "output_type": "execute_result"
    }
   ],
   "source": [
    "df.isnull().sum()"
   ]
  },
  {
   "cell_type": "code",
   "execution_count": 17,
   "id": "079d53a6",
   "metadata": {},
   "outputs": [
    {
     "data": {
      "text/plain": [
       "train_class\n",
       "Turista               1950303\n",
       "Preferente             256082\n",
       "Turista Plus           192908\n",
       "Turista con enlace     169549\n",
       "Cama Turista             1051\n",
       "Cama G. Clase             214\n",
       "Name: count, dtype: int64"
      ]
     },
     "execution_count": 17,
     "metadata": {},
     "output_type": "execute_result"
    }
   ],
   "source": [
    "df['train_class'].value_counts()"
   ]
  },
  {
   "cell_type": "code",
   "execution_count": 18,
   "id": "1a1d4874",
   "metadata": {},
   "outputs": [
    {
     "data": {
      "text/plain": [
       "destination\n",
       "MADRID        1220348\n",
       "BARCELONA      480074\n",
       "SEVILLA        413155\n",
       "VALENCIA       399679\n",
       "PONFERRADA      66515\n",
       "Name: count, dtype: int64"
      ]
     },
     "execution_count": 18,
     "metadata": {},
     "output_type": "execute_result"
    }
   ],
   "source": [
    "df['destination'].value_counts()"
   ]
  },
  {
   "cell_type": "code",
   "execution_count": 19,
   "id": "fe3f5d6a",
   "metadata": {},
   "outputs": [
    {
     "data": {
      "text/plain": [
       "origin\n",
       "MADRID        1359423\n",
       "BARCELONA      405621\n",
       "SEVILLA        398445\n",
       "VALENCIA       323086\n",
       "PONFERRADA      93196\n",
       "Name: count, dtype: int64"
      ]
     },
     "execution_count": 19,
     "metadata": {},
     "output_type": "execute_result"
    }
   ],
   "source": [
    "df['origin'].value_counts()"
   ]
  },
  {
   "cell_type": "code",
   "execution_count": 20,
   "id": "d41c2877",
   "metadata": {},
   "outputs": [],
   "source": [
    "df=df.dropna()"
   ]
  },
  {
   "cell_type": "code",
   "execution_count": 21,
   "id": "6a725780",
   "metadata": {},
   "outputs": [
    {
     "data": {
      "text/plain": [
       "origin         0\n",
       "destination    0\n",
       "start_date     0\n",
       "end_date       0\n",
       "train_type     0\n",
       "price          0\n",
       "train_class    0\n",
       "fare           0\n",
       "dtype: int64"
      ]
     },
     "execution_count": 21,
     "metadata": {},
     "output_type": "execute_result"
    }
   ],
   "source": [
    "df.isnull().sum()"
   ]
  },
  {
   "cell_type": "code",
   "execution_count": 22,
   "id": "747e38c4",
   "metadata": {},
   "outputs": [
    {
     "data": {
      "text/plain": [
       "fare\n",
       "Promo                  1733423\n",
       "Flexible                582743\n",
       "Adulto ida              179844\n",
       "Promo +                  73778\n",
       "Individual-Flexible        214\n",
       "Mesa                        99\n",
       "Grupos Ida                   6\n",
       "Name: count, dtype: int64"
      ]
     },
     "execution_count": 22,
     "metadata": {},
     "output_type": "execute_result"
    }
   ],
   "source": [
    "df['fare'].value_counts()"
   ]
  },
  {
   "cell_type": "code",
   "execution_count": 23,
   "id": "124a2f05",
   "metadata": {},
   "outputs": [],
   "source": [
    "#lets fill all the empty fare with mesa \n",
    "df['fare']=df['fare'].fillna('Mesa')"
   ]
  },
  {
   "cell_type": "code",
   "execution_count": 24,
   "id": "6c1b98e3",
   "metadata": {},
   "outputs": [
    {
     "data": {
      "text/plain": [
       "origin         0\n",
       "destination    0\n",
       "start_date     0\n",
       "end_date       0\n",
       "train_type     0\n",
       "price          0\n",
       "train_class    0\n",
       "fare           0\n",
       "dtype: int64"
      ]
     },
     "execution_count": 24,
     "metadata": {},
     "output_type": "execute_result"
    }
   ],
   "source": [
    "df.isnull().sum()"
   ]
  },
  {
   "cell_type": "code",
   "execution_count": 25,
   "id": "155a4a49",
   "metadata": {},
   "outputs": [
    {
     "data": {
      "text/plain": [
       "(2570107, 8)"
      ]
     },
     "execution_count": 25,
     "metadata": {},
     "output_type": "execute_result"
    }
   ],
   "source": [
    "df.shape"
   ]
  },
  {
   "cell_type": "code",
   "execution_count": 26,
   "id": "151c8638",
   "metadata": {},
   "outputs": [],
   "source": [
    "from sklearn.model_selection import train_test_split  # Splitting data into train & test sets\n",
    "from sklearn.preprocessing import OneHotEncoder, LabelEncoder  # Encoding categorical features\n",
    "from sklearn.preprocessing import StandardScaler  # Scaling numerical features\n",
    "from sklearn.linear_model import LinearRegression  # Linear Regression model\n",
    "from sklearn.ensemble import RandomForestRegressor  # Random Forest model\n",
    "from sklearn.metrics import mean_absolute_error, mean_squared_error, r2_score"
   ]
  },
  {
   "cell_type": "code",
   "execution_count": 48,
   "id": "c0e49c66",
   "metadata": {},
   "outputs": [
    {
     "name": "stdout",
     "output_type": "stream",
     "text": [
      " label_encoders.json has been created successfully!\n"
     ]
    }
   ],
   "source": [
    "import json\n",
    "\n",
    "categorical_cols = ['origin', 'destination', 'train_type', 'train_class', 'fare']\n",
    "label_encoders = {}\n",
    "\n",
    "for col in categorical_cols:\n",
    "    le = LabelEncoder()\n",
    "    df[col] = le.fit_transform(df[col])\n",
    "    label_encoders[col] = le  # Store label encoders\n",
    "\n",
    "# Convert label encoders to a JSON-serializable format\n",
    "label_encoders_json = {col: le.classes_.tolist() for col, le in label_encoders.items()}\n",
    "\n",
    "# Save as JSON\n",
    "with open(\"label_encoders.json\", \"w\") as f:\n",
    "    json.dump(label_encoders_json, f)\n",
    "\n",
    "print(\" label_encoders.json has been created successfully!\")"
   ]
  },
  {
   "cell_type": "code",
   "execution_count": 28,
   "id": "bf577a38",
   "metadata": {},
   "outputs": [
    {
     "data": {
      "text/html": [
       "<div>\n",
       "<style scoped>\n",
       "    .dataframe tbody tr th:only-of-type {\n",
       "        vertical-align: middle;\n",
       "    }\n",
       "\n",
       "    .dataframe tbody tr th {\n",
       "        vertical-align: top;\n",
       "    }\n",
       "\n",
       "    .dataframe thead th {\n",
       "        text-align: right;\n",
       "    }\n",
       "</style>\n",
       "<table border=\"1\" class=\"dataframe\">\n",
       "  <thead>\n",
       "    <tr style=\"text-align: right;\">\n",
       "      <th></th>\n",
       "      <th>origin</th>\n",
       "      <th>destination</th>\n",
       "      <th>start_date</th>\n",
       "      <th>end_date</th>\n",
       "      <th>train_type</th>\n",
       "      <th>price</th>\n",
       "      <th>train_class</th>\n",
       "      <th>fare</th>\n",
       "    </tr>\n",
       "  </thead>\n",
       "  <tbody>\n",
       "    <tr>\n",
       "      <th>0</th>\n",
       "      <td>1</td>\n",
       "      <td>3</td>\n",
       "      <td>2019-05-29 06:20:00</td>\n",
       "      <td>2019-05-29 09:16:00</td>\n",
       "      <td>1</td>\n",
       "      <td>38</td>\n",
       "      <td>3</td>\n",
       "      <td>5</td>\n",
       "    </tr>\n",
       "    <tr>\n",
       "      <th>1</th>\n",
       "      <td>1</td>\n",
       "      <td>3</td>\n",
       "      <td>2019-05-29 07:00:00</td>\n",
       "      <td>2019-05-29 09:32:00</td>\n",
       "      <td>2</td>\n",
       "      <td>53</td>\n",
       "      <td>3</td>\n",
       "      <td>5</td>\n",
       "    </tr>\n",
       "    <tr>\n",
       "      <th>2</th>\n",
       "      <td>1</td>\n",
       "      <td>3</td>\n",
       "      <td>2019-05-29 07:30:00</td>\n",
       "      <td>2019-05-29 09:51:00</td>\n",
       "      <td>2</td>\n",
       "      <td>47</td>\n",
       "      <td>3</td>\n",
       "      <td>5</td>\n",
       "    </tr>\n",
       "    <tr>\n",
       "      <th>3</th>\n",
       "      <td>1</td>\n",
       "      <td>3</td>\n",
       "      <td>2019-05-29 08:00:00</td>\n",
       "      <td>2019-05-29 10:32:00</td>\n",
       "      <td>2</td>\n",
       "      <td>69</td>\n",
       "      <td>2</td>\n",
       "      <td>5</td>\n",
       "    </tr>\n",
       "    <tr>\n",
       "      <th>4</th>\n",
       "      <td>1</td>\n",
       "      <td>3</td>\n",
       "      <td>2019-05-29 08:30:00</td>\n",
       "      <td>2019-05-29 11:14:00</td>\n",
       "      <td>0</td>\n",
       "      <td>63</td>\n",
       "      <td>3</td>\n",
       "      <td>5</td>\n",
       "    </tr>\n",
       "  </tbody>\n",
       "</table>\n",
       "</div>"
      ],
      "text/plain": [
       "   origin  destination           start_date             end_date  train_type  \\\n",
       "0       1            3  2019-05-29 06:20:00  2019-05-29 09:16:00           1   \n",
       "1       1            3  2019-05-29 07:00:00  2019-05-29 09:32:00           2   \n",
       "2       1            3  2019-05-29 07:30:00  2019-05-29 09:51:00           2   \n",
       "3       1            3  2019-05-29 08:00:00  2019-05-29 10:32:00           2   \n",
       "4       1            3  2019-05-29 08:30:00  2019-05-29 11:14:00           0   \n",
       "\n",
       "   price  train_class  fare  \n",
       "0     38            3     5  \n",
       "1     53            3     5  \n",
       "2     47            3     5  \n",
       "3     69            2     5  \n",
       "4     63            3     5  "
      ]
     },
     "execution_count": 28,
     "metadata": {},
     "output_type": "execute_result"
    }
   ],
   "source": [
    "df.head()"
   ]
  },
  {
   "cell_type": "code",
   "execution_count": 29,
   "id": "014e2ea4",
   "metadata": {},
   "outputs": [
    {
     "data": {
      "text/plain": [
       "destination\n",
       "1    1214369\n",
       "0     479185\n",
       "3     412366\n",
       "4     399214\n",
       "2      64973\n",
       "Name: count, dtype: int64"
      ]
     },
     "execution_count": 29,
     "metadata": {},
     "output_type": "execute_result"
    }
   ],
   "source": [
    "df['destination'].value_counts()"
   ]
  },
  {
   "cell_type": "markdown",
   "id": "5254eb77",
   "metadata": {},
   "source": [
    "MADRID - 1, BARCELONA - 0, SEVILLA - 3, VALENCIA - 4, PONFERRADA - 2"
   ]
  },
  {
   "cell_type": "code",
   "execution_count": 30,
   "id": "e7140215",
   "metadata": {},
   "outputs": [
    {
     "data": {
      "text/plain": [
       "origin\n",
       "1    1355738\n",
       "0     405536\n",
       "3     395799\n",
       "4     322445\n",
       "2      90589\n",
       "Name: count, dtype: int64"
      ]
     },
     "execution_count": 30,
     "metadata": {},
     "output_type": "execute_result"
    }
   ],
   "source": [
    "df['origin'].value_counts()"
   ]
  },
  {
   "cell_type": "markdown",
   "id": "23f87c3f",
   "metadata": {},
   "source": [
    "MADRID - 1, BARCELONA - 0, SEVILLA - 3, VALENCIA - 4, PONFERRADA - 2"
   ]
  },
  {
   "cell_type": "code",
   "execution_count": 31,
   "id": "c3155e77",
   "metadata": {},
   "outputs": [
    {
     "data": {
      "text/plain": [
       "fare\n",
       "5    1733423\n",
       "1     582743\n",
       "0     179844\n",
       "6      73778\n",
       "3        214\n",
       "4         99\n",
       "2          6\n",
       "Name: count, dtype: int64"
      ]
     },
     "execution_count": 31,
     "metadata": {},
     "output_type": "execute_result"
    }
   ],
   "source": [
    "df['fare'].value_counts()"
   ]
  },
  {
   "cell_type": "markdown",
   "id": "eb75f111",
   "metadata": {},
   "source": [
    "Promo - 5, Flexible - 1, Adulto ida - 0, Promo + - 6, Individual Flexible - 4, Mesa - 3, Grupos Ida - 6"
   ]
  },
  {
   "cell_type": "code",
   "execution_count": 32,
   "id": "017d032c",
   "metadata": {},
   "outputs": [
    {
     "data": {
      "text/plain": [
       "train_class\n",
       "3    1950303\n",
       "2     256082\n",
       "4     192908\n",
       "5     169549\n",
       "1       1051\n",
       "0        214\n",
       "Name: count, dtype: int64"
      ]
     },
     "execution_count": 32,
     "metadata": {},
     "output_type": "execute_result"
    }
   ],
   "source": [
    "df['train_class'].value_counts()"
   ]
  },
  {
   "cell_type": "markdown",
   "id": "3016f88e",
   "metadata": {},
   "source": [
    "Turista - 3, Preferente -2, Turista Plus - 4, Turista con enlace - 5, Cama Turista - 0, Cama G. Clase - 1"
   ]
  },
  {
   "cell_type": "code",
   "execution_count": 33,
   "id": "5290ddec",
   "metadata": {},
   "outputs": [
    {
     "data": {
      "text/plain": [
       "train_type\n",
       "2     1787182\n",
       "0      180888\n",
       "14     145898\n",
       "6       99347\n",
       "1       70656\n",
       "12      50938\n",
       "7       40056\n",
       "5       34755\n",
       "4       34008\n",
       "13      31917\n",
       "3       31339\n",
       "9       27138\n",
       "15      18266\n",
       "11       7368\n",
       "10       5543\n",
       "8        4808\n",
       "Name: count, dtype: int64"
      ]
     },
     "execution_count": 33,
     "metadata": {},
     "output_type": "execute_result"
    }
   ],
   "source": [
    "df['train_type'].value_counts()"
   ]
  },
  {
   "cell_type": "markdown",
   "id": "c7ae4104",
   "metadata": {},
   "source": [
    "AVE - 2, ALVIA - 0, REGIONAL - 14, INTERCITY - 6, AV City - 1 , MD-LD - 12, LD - 7 , AVE-TGV - 5, AVE-MD - 4, R. EXPRES - 13, AVE-LD - 3, LD-MD - 9, TRENHOTEL - 15, MD-AVE - 11, MD - 10, LD-AVE - 8"
   ]
  },
  {
   "cell_type": "code",
   "execution_count": 34,
   "id": "18b86a32",
   "metadata": {},
   "outputs": [],
   "source": [
    "df['start_date'] = pd.to_datetime(df['start_date'])\n",
    "df['s_hour'] = df['start_date'].dt.hour\n",
    "df['s_day_of_week'] = df['start_date'].dt.dayofweek\n",
    "df['s_month'] = df['start_date'].dt.month"
   ]
  },
  {
   "cell_type": "code",
   "execution_count": 35,
   "id": "a838695e",
   "metadata": {},
   "outputs": [],
   "source": [
    "df['end_date'] = pd.to_datetime(df['end_date'])\n",
    "\n",
    "# Extract useful time-related features\n",
    "df['end_hour'] = df['end_date'].dt.hour\n",
    "df['end_day_of_week'] = df['end_date'].dt.dayofweek\n",
    "df['end_month'] = df['end_date'].dt.month"
   ]
  },
  {
   "cell_type": "code",
   "execution_count": 36,
   "id": "5bafc62f",
   "metadata": {},
   "outputs": [],
   "source": [
    "#travel duration of train in minutes \n",
    "df['start_date'] = pd.to_datetime(df['start_date'])\n",
    "df['travel_duration'] = (df['end_date'] - df['start_date']).dt.total_seconds() / 60 #in minutes"
   ]
  },
  {
   "cell_type": "code",
   "execution_count": 37,
   "id": "cef19b5c",
   "metadata": {},
   "outputs": [],
   "source": [
    "df = df.drop(columns=['end_date','start_date'],axis=1)"
   ]
  },
  {
   "cell_type": "code",
   "execution_count": 38,
   "id": "a6eae38a",
   "metadata": {},
   "outputs": [],
   "source": [
    "df=df.drop(columns=['s_hour','s_day_of_week','s_month','end_hour','end_day_of_week','end_month'],axis=1)"
   ]
  },
  {
   "cell_type": "code",
   "execution_count": 39,
   "id": "4b2e517c",
   "metadata": {},
   "outputs": [
    {
     "data": {
      "text/html": [
       "<div>\n",
       "<style scoped>\n",
       "    .dataframe tbody tr th:only-of-type {\n",
       "        vertical-align: middle;\n",
       "    }\n",
       "\n",
       "    .dataframe tbody tr th {\n",
       "        vertical-align: top;\n",
       "    }\n",
       "\n",
       "    .dataframe thead th {\n",
       "        text-align: right;\n",
       "    }\n",
       "</style>\n",
       "<table border=\"1\" class=\"dataframe\">\n",
       "  <thead>\n",
       "    <tr style=\"text-align: right;\">\n",
       "      <th></th>\n",
       "      <th>origin</th>\n",
       "      <th>destination</th>\n",
       "      <th>train_type</th>\n",
       "      <th>price</th>\n",
       "      <th>train_class</th>\n",
       "      <th>fare</th>\n",
       "      <th>travel_duration</th>\n",
       "    </tr>\n",
       "  </thead>\n",
       "  <tbody>\n",
       "    <tr>\n",
       "      <th>0</th>\n",
       "      <td>1</td>\n",
       "      <td>3</td>\n",
       "      <td>1</td>\n",
       "      <td>38</td>\n",
       "      <td>3</td>\n",
       "      <td>5</td>\n",
       "      <td>176.0</td>\n",
       "    </tr>\n",
       "    <tr>\n",
       "      <th>1</th>\n",
       "      <td>1</td>\n",
       "      <td>3</td>\n",
       "      <td>2</td>\n",
       "      <td>53</td>\n",
       "      <td>3</td>\n",
       "      <td>5</td>\n",
       "      <td>152.0</td>\n",
       "    </tr>\n",
       "    <tr>\n",
       "      <th>2</th>\n",
       "      <td>1</td>\n",
       "      <td>3</td>\n",
       "      <td>2</td>\n",
       "      <td>47</td>\n",
       "      <td>3</td>\n",
       "      <td>5</td>\n",
       "      <td>141.0</td>\n",
       "    </tr>\n",
       "    <tr>\n",
       "      <th>3</th>\n",
       "      <td>1</td>\n",
       "      <td>3</td>\n",
       "      <td>2</td>\n",
       "      <td>69</td>\n",
       "      <td>2</td>\n",
       "      <td>5</td>\n",
       "      <td>152.0</td>\n",
       "    </tr>\n",
       "    <tr>\n",
       "      <th>4</th>\n",
       "      <td>1</td>\n",
       "      <td>3</td>\n",
       "      <td>0</td>\n",
       "      <td>63</td>\n",
       "      <td>3</td>\n",
       "      <td>5</td>\n",
       "      <td>164.0</td>\n",
       "    </tr>\n",
       "  </tbody>\n",
       "</table>\n",
       "</div>"
      ],
      "text/plain": [
       "   origin  destination  train_type  price  train_class  fare  travel_duration\n",
       "0       1            3           1     38            3     5            176.0\n",
       "1       1            3           2     53            3     5            152.0\n",
       "2       1            3           2     47            3     5            141.0\n",
       "3       1            3           2     69            2     5            152.0\n",
       "4       1            3           0     63            3     5            164.0"
      ]
     },
     "execution_count": 39,
     "metadata": {},
     "output_type": "execute_result"
    }
   ],
   "source": [
    "df.head()"
   ]
  },
  {
   "cell_type": "markdown",
   "id": "c5ed5eda",
   "metadata": {},
   "source": [
    "# model selection"
   ]
  },
  {
   "cell_type": "code",
   "execution_count": 40,
   "id": "edc2beb2",
   "metadata": {},
   "outputs": [],
   "source": [
    "X=df.drop(columns=['price'])\n",
    "y=df['price']"
   ]
  },
  {
   "cell_type": "code",
   "execution_count": 41,
   "id": "797ec14e",
   "metadata": {},
   "outputs": [],
   "source": [
    "X_train, X_test, y_train, y_test = train_test_split(X, y, test_size=0.2, random_state=42)"
   ]
  },
  {
   "cell_type": "code",
   "execution_count": 42,
   "id": "62f53bdb",
   "metadata": {},
   "outputs": [],
   "source": [
    "from sklearn.preprocessing import StandardScaler\n",
    "\n",
    "scaler = StandardScaler()\n",
    "X_train_scaled = scaler.fit_transform(X_train)\n",
    "X_test_scaled = scaler.transform(X_test)"
   ]
  },
  {
   "cell_type": "code",
   "execution_count": 43,
   "id": "83dddb4f",
   "metadata": {},
   "outputs": [],
   "source": [
    "lr = LinearRegression()\n",
    "lr.fit(X_train, y_train)\n",
    "\n",
    "# Make predictions\n",
    "y_pred = lr.predict(X_test)"
   ]
  },
  {
   "cell_type": "code",
   "execution_count": 44,
   "id": "3513c013",
   "metadata": {},
   "outputs": [
    {
     "name": "stdout",
     "output_type": "stream",
     "text": [
      "MAE: 10.921795016086879\n",
      "MSE: 218.19746604922426\n",
      "R2 Score: 0.6291974628738093\n"
     ]
    }
   ],
   "source": [
    "print(\"MAE:\", mean_absolute_error(y_test, y_pred))\n",
    "print(\"MSE:\", mean_squared_error(y_test, y_pred))\n",
    "print(\"R2 Score:\", r2_score(y_test, y_pred))"
   ]
  },
  {
   "cell_type": "code",
   "execution_count": 45,
   "id": "e1158673",
   "metadata": {},
   "outputs": [
    {
     "name": "stdout",
     "output_type": "stream",
     "text": [
      "Random Forest MAE: 6.698535176348239\n",
      "Random Forest MSE: 104.9414075064749\n",
      "Random Forest R2 Score: 0.8216636478069095\n"
     ]
    }
   ],
   "source": [
    "rf = RandomForestRegressor(n_estimators=100,max_depth=10)\n",
    "rf.fit(X_train, y_train)\n",
    "\n",
    "y_pred_rf = rf.predict(X_test)\n",
    "\n",
    "print(\"Random Forest MAE:\", mean_absolute_error(y_test, y_pred_rf))\n",
    "print(\"Random Forest MSE:\", mean_squared_error(y_test, y_pred_rf))\n",
    "print(\"Random Forest R2 Score:\", r2_score(y_test, y_pred_rf))"
   ]
  },
  {
   "cell_type": "markdown",
   "id": "71a179d7",
   "metadata": {},
   "source": [
    "# saving the model"
   ]
  },
  {
   "cell_type": "code",
   "execution_count": 47,
   "id": "bafd60b3",
   "metadata": {},
   "outputs": [
    {
     "name": "stdout",
     "output_type": "stream",
     "text": [
      "Model parameters saved successfully as train_price_model_params.json\n"
     ]
    }
   ],
   "source": [
    "import json\n",
    "from sklearn.ensemble import RandomForestRegressor\n",
    "\n",
    "# Save model parameters\n",
    "params = rf.get_params()\n",
    "with open(\"train_price_model_params.json\", \"w\") as f:\n",
    "    json.dump(params, f)\n",
    "\n",
    "print(\"Model parameters saved successfully as train_price_model_params.json\")"
   ]
  },
  {
   "cell_type": "code",
   "execution_count": null,
   "id": "79c4531e",
   "metadata": {},
   "outputs": [],
   "source": []
  },
  {
   "cell_type": "code",
   "execution_count": null,
   "id": "f346c0da",
   "metadata": {},
   "outputs": [],
   "source": []
  },
  {
   "cell_type": "code",
   "execution_count": null,
   "id": "6bd17eb8",
   "metadata": {},
   "outputs": [],
   "source": []
  }
 ],
 "metadata": {
  "kernelspec": {
   "display_name": "Python (tf_env)",
   "language": "python",
   "name": "tf_env"
  },
  "language_info": {
   "codemirror_mode": {
    "name": "ipython",
    "version": 3
   },
   "file_extension": ".py",
   "mimetype": "text/x-python",
   "name": "python",
   "nbconvert_exporter": "python",
   "pygments_lexer": "ipython3",
   "version": "3.10.16"
  }
 },
 "nbformat": 4,
 "nbformat_minor": 5
}
